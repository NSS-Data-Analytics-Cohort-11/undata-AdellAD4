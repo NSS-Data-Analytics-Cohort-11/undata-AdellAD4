{
 "cells": [
  {
   "cell_type": "code",
   "execution_count": 1,
   "id": "c33771d2-7781-44d2-89ce-90c78bade670",
   "metadata": {},
   "outputs": [],
   "source": [
    "import pandas as pd\n",
    "import numpy as np\n",
    "import matplotlib.pyplot as plt\n",
    "import seaborn as sns"
   ]
  },
  {
   "cell_type": "markdown",
   "id": "ef3ac9bb-89e9-4c56-8df5-3a33dc66ffb5",
   "metadata": {},
   "source": [
    "## A markdown cell with a ** means that question still needs work"
   ]
  },
  {
   "cell_type": "code",
   "execution_count": 2,
   "id": "f7ea895a-2528-4d5c-b678-1c368dbc0608",
   "metadata": {},
   "outputs": [],
   "source": [
    "#Read in the percapita csv file and name the variable\n",
    "gdp_df = pd.read_csv('../data/gdp_percapita.csv')"
   ]
  },
  {
   "cell_type": "code",
   "execution_count": 3,
   "id": "180b33f4-c6e3-46c6-83d9-67a8de9932c7",
   "metadata": {},
   "outputs": [
    {
     "data": {
      "text/html": [
       "<div>\n",
       "<style scoped>\n",
       "    .dataframe tbody tr th:only-of-type {\n",
       "        vertical-align: middle;\n",
       "    }\n",
       "\n",
       "    .dataframe tbody tr th {\n",
       "        vertical-align: top;\n",
       "    }\n",
       "\n",
       "    .dataframe thead th {\n",
       "        text-align: right;\n",
       "    }\n",
       "</style>\n",
       "<table border=\"1\" class=\"dataframe\">\n",
       "  <thead>\n",
       "    <tr style=\"text-align: right;\">\n",
       "      <th></th>\n",
       "      <th>Country or Area</th>\n",
       "      <th>Year</th>\n",
       "      <th>Value</th>\n",
       "      <th>Value Footnotes</th>\n",
       "    </tr>\n",
       "  </thead>\n",
       "  <tbody>\n",
       "    <tr>\n",
       "      <th>0</th>\n",
       "      <td>Afghanistan</td>\n",
       "      <td>2021</td>\n",
       "      <td>1517.016266</td>\n",
       "      <td>NaN</td>\n",
       "    </tr>\n",
       "    <tr>\n",
       "      <th>1</th>\n",
       "      <td>Afghanistan</td>\n",
       "      <td>2020</td>\n",
       "      <td>1968.341002</td>\n",
       "      <td>NaN</td>\n",
       "    </tr>\n",
       "    <tr>\n",
       "      <th>2</th>\n",
       "      <td>Afghanistan</td>\n",
       "      <td>2019</td>\n",
       "      <td>2079.921861</td>\n",
       "      <td>NaN</td>\n",
       "    </tr>\n",
       "    <tr>\n",
       "      <th>3</th>\n",
       "      <td>Afghanistan</td>\n",
       "      <td>2018</td>\n",
       "      <td>2060.698973</td>\n",
       "      <td>NaN</td>\n",
       "    </tr>\n",
       "    <tr>\n",
       "      <th>4</th>\n",
       "      <td>Afghanistan</td>\n",
       "      <td>2017</td>\n",
       "      <td>2096.093111</td>\n",
       "      <td>NaN</td>\n",
       "    </tr>\n",
       "  </tbody>\n",
       "</table>\n",
       "</div>"
      ],
      "text/plain": [
       "  Country or Area  Year        Value  Value Footnotes\n",
       "0     Afghanistan  2021  1517.016266              NaN\n",
       "1     Afghanistan  2020  1968.341002              NaN\n",
       "2     Afghanistan  2019  2079.921861              NaN\n",
       "3     Afghanistan  2018  2060.698973              NaN\n",
       "4     Afghanistan  2017  2096.093111              NaN"
      ]
     },
     "execution_count": 3,
     "metadata": {},
     "output_type": "execute_result"
    }
   ],
   "source": [
    "gdp_df.head()"
   ]
  },
  {
   "cell_type": "code",
   "execution_count": 4,
   "id": "37a0976d-e81b-47c5-9375-403a5a6b5889",
   "metadata": {},
   "outputs": [
    {
     "data": {
      "text/html": [
       "<div>\n",
       "<style scoped>\n",
       "    .dataframe tbody tr th:only-of-type {\n",
       "        vertical-align: middle;\n",
       "    }\n",
       "\n",
       "    .dataframe tbody tr th {\n",
       "        vertical-align: top;\n",
       "    }\n",
       "\n",
       "    .dataframe thead th {\n",
       "        text-align: right;\n",
       "    }\n",
       "</style>\n",
       "<table border=\"1\" class=\"dataframe\">\n",
       "  <thead>\n",
       "    <tr style=\"text-align: right;\">\n",
       "      <th></th>\n",
       "      <th>Country or Area</th>\n",
       "      <th>Year</th>\n",
       "      <th>Value</th>\n",
       "      <th>Value Footnotes</th>\n",
       "    </tr>\n",
       "  </thead>\n",
       "  <tbody>\n",
       "    <tr>\n",
       "      <th>7657</th>\n",
       "      <td>Zimbabwe</td>\n",
       "      <td>1994</td>\n",
       "      <td>2670.106615</td>\n",
       "      <td>NaN</td>\n",
       "    </tr>\n",
       "    <tr>\n",
       "      <th>7658</th>\n",
       "      <td>Zimbabwe</td>\n",
       "      <td>1993</td>\n",
       "      <td>2458.783255</td>\n",
       "      <td>NaN</td>\n",
       "    </tr>\n",
       "    <tr>\n",
       "      <th>7659</th>\n",
       "      <td>Zimbabwe</td>\n",
       "      <td>1992</td>\n",
       "      <td>2468.278257</td>\n",
       "      <td>NaN</td>\n",
       "    </tr>\n",
       "    <tr>\n",
       "      <th>7660</th>\n",
       "      <td>Zimbabwe</td>\n",
       "      <td>1991</td>\n",
       "      <td>2781.787843</td>\n",
       "      <td>NaN</td>\n",
       "    </tr>\n",
       "    <tr>\n",
       "      <th>7661</th>\n",
       "      <td>Zimbabwe</td>\n",
       "      <td>1990</td>\n",
       "      <td>2704.757299</td>\n",
       "      <td>NaN</td>\n",
       "    </tr>\n",
       "  </tbody>\n",
       "</table>\n",
       "</div>"
      ],
      "text/plain": [
       "     Country or Area  Year        Value  Value Footnotes\n",
       "7657        Zimbabwe  1994  2670.106615              NaN\n",
       "7658        Zimbabwe  1993  2458.783255              NaN\n",
       "7659        Zimbabwe  1992  2468.278257              NaN\n",
       "7660        Zimbabwe  1991  2781.787843              NaN\n",
       "7661        Zimbabwe  1990  2704.757299              NaN"
      ]
     },
     "execution_count": 4,
     "metadata": {},
     "output_type": "execute_result"
    }
   ],
   "source": [
    "gdp_df.tail()"
   ]
  },
  {
   "cell_type": "markdown",
   "id": "8026282d-d0e3-454d-b72d-d1b258ca18f2",
   "metadata": {},
   "source": [
    "## Q5"
   ]
  },
  {
   "cell_type": "markdown",
   "id": "79b49048-6593-4f7e-985c-010533d74d5b",
   "metadata": {},
   "source": [
    "Q5- How many rows and columns are in `gdp_df`? What are the data types of each column?"
   ]
  },
  {
   "cell_type": "code",
   "execution_count": 5,
   "id": "82aeb4c1-a76f-4224-9986-6f8123adc877",
   "metadata": {},
   "outputs": [
    {
     "data": {
      "text/plain": [
       "(7662, 4)"
      ]
     },
     "execution_count": 5,
     "metadata": {},
     "output_type": "execute_result"
    }
   ],
   "source": [
    "gdp_df.shape"
   ]
  },
  {
   "cell_type": "markdown",
   "id": "c89fc3b3-0ea6-470d-8326-32a166f7fac9",
   "metadata": {},
   "source": [
    "Answer: There are 7,662 rows and 4 columns in the gdp per capita dataset."
   ]
  },
  {
   "cell_type": "markdown",
   "id": "de255c08-5c56-43b7-a705-2257b6258d29",
   "metadata": {},
   "source": []
  },
  {
   "cell_type": "markdown",
   "id": "4c10dab5-8526-475b-b6dd-129f97de275a",
   "metadata": {},
   "source": [
    "## Q6"
   ]
  },
  {
   "cell_type": "markdown",
   "id": "9bbb82bd-29d3-4776-a5ab-8470aa5fc9dc",
   "metadata": {},
   "source": [
    "Q6- Drop the `Value Footnotes` column and rename the remaining three to 'Country', 'Year', and 'GDP_Per_Capita'."
   ]
  },
  {
   "cell_type": "code",
   "execution_count": 6,
   "id": "4a4ba3ac-36c5-4083-9218-d10e9a9a5f1e",
   "metadata": {},
   "outputs": [],
   "source": [
    "#Drop the columns titled \"Value Footnotes\"\n",
    "gdp_df = gdp_df.drop(\"Value Footnotes\", axis = 'columns')"
   ]
  },
  {
   "cell_type": "code",
   "execution_count": 7,
   "id": "097f303f-a76e-4a41-9cfc-53da76257c81",
   "metadata": {},
   "outputs": [],
   "source": [
    "#Rename the remaining columns\n",
    "gdp_df = gdp_df.rename(columns = {'Country or Area':'Country', 'Year':'Year', 'Value':'GDP_Per_Capita'})"
   ]
  },
  {
   "cell_type": "markdown",
   "id": "0ce902cc-46d1-44f6-9933-67ffbb64440f",
   "metadata": {},
   "source": []
  },
  {
   "cell_type": "markdown",
   "id": "521269a4-910a-4149-b884-106c957823ac",
   "metadata": {},
   "source": [
    "## Q7"
   ]
  },
  {
   "cell_type": "markdown",
   "id": "17230698-a2ff-44d9-94c8-7f65f8f7d345",
   "metadata": {},
   "source": [
    "Q7- How many countries have data for all years? Which countries are missing many years of data? Look at the number of observations per year. What do you notice? "
   ]
  },
  {
   "cell_type": "code",
   "execution_count": 8,
   "id": "e0f9d6ae-379a-4f55-8ae1-84263c6a2eab",
   "metadata": {},
   "outputs": [],
   "source": [
    "#Counting the number of years per country\n",
    "counted_years = gdp_df.groupby(\"Country\")[\"Year\"].count()"
   ]
  },
  {
   "cell_type": "markdown",
   "id": "33d7f89c-4bb2-4055-b19e-220c54e246ee",
   "metadata": {},
   "source": [
    "Answer 7B: The following are the 40 countries missing years of data. "
   ]
  },
  {
   "cell_type": "code",
   "execution_count": 9,
   "id": "e8def6e8-0bd7-48fc-aba6-f0b218101663",
   "metadata": {},
   "outputs": [
    {
     "data": {
      "text/plain": [
       "Country\n",
       "Djibouti                     10\n",
       "Somalia                      10\n",
       "Turks and Caicos Islands     12\n",
       "Sint Maarten (Dutch part)    14\n",
       "Kosovo                       15\n",
       "Cayman Islands               16\n",
       "Nauru                        19\n",
       "Afghanistan                  20\n",
       "CuraÃ§ao                     22\n",
       "Palau                        22\n",
       "SÃ£o TomÃ© and Principe      22\n",
       "Qatar                        23\n",
       "Other small states           23\n",
       "Timor-Leste                  23\n",
       "Liberia                      23\n",
       "Libya                        24\n",
       "San Marino                   25\n",
       "Small states                 26\n",
       "Montenegro                   26\n",
       "Maldives                     28\n",
       "Moldova                      28\n",
       "Israel                       28\n",
       "Iceland                      28\n",
       "Estonia                      28\n",
       "Croatia                      28\n",
       "Serbia                       28\n",
       "Slovenia                     28\n",
       "Lithuania                    28\n",
       "Latvia                       28\n",
       "West Bank and Gaza           29\n",
       "Bosnia and Herzegovina       29\n",
       "Cambodia                     30\n",
       "Kuwait                       31\n",
       "Slovak Republic              31\n",
       "Turkmenistan                 31\n",
       "Lebanon                      32\n",
       "Tonga                        32\n",
       "Hungary                      32\n",
       "Aruba                        32\n",
       "Bhutan                       32\n",
       "Name: Year, dtype: int64"
      ]
     },
     "execution_count": 9,
     "metadata": {},
     "output_type": "execute_result"
    }
   ],
   "source": [
    "#Showing the 40 countries with years of missing data\n",
    "counted_years.sort_values().head(40)"
   ]
  },
  {
   "cell_type": "markdown",
   "id": "1565640a-6ba6-470e-98c9-a5eb69f94179",
   "metadata": {},
   "source": [
    "Answer 7A: There are 202 countries with all 33 years of data."
   ]
  },
  {
   "cell_type": "code",
   "execution_count": 10,
   "id": "1c887d22-3d5c-4263-a09a-1b9aa8d3f8a5",
   "metadata": {
    "scrolled": true
   },
   "outputs": [
    {
     "data": {
      "text/plain": [
       "Country\n",
       "Papua New Guinea               33\n",
       "Pakistan                       33\n",
       "Australia                      33\n",
       "Pacific island small states    33\n",
       "Austria                        33\n",
       "                               ..\n",
       "Jamaica                        33\n",
       "Japan                          33\n",
       "Jordan                         33\n",
       "IDA total                      33\n",
       "Zimbabwe                       33\n",
       "Name: Year, Length: 202, dtype: int64"
      ]
     },
     "execution_count": 10,
     "metadata": {},
     "output_type": "execute_result"
    }
   ],
   "source": [
    "#Showing the 202 countries with all 33 years of data\n",
    "counted_years.sort_values().tail(202)"
   ]
  },
  {
   "cell_type": "markdown",
   "id": "a389bc84-7581-4273-93d7-bed9dd402099",
   "metadata": {},
   "source": [
    "Answer 7C: Looking at this data of counted years, I notice Djibouti and Somalia only have 10 years of data, the 202 countries will full data have 33 years. The countries with less than 33 years seem to be smaller countries."
   ]
  },
  {
   "cell_type": "code",
   "execution_count": null,
   "id": "4015cb1b-3360-4779-8a67-38bef0bbf2bc",
   "metadata": {},
   "outputs": [],
   "source": []
  },
  {
   "cell_type": "markdown",
   "id": "7e19ebd6-dd03-4e82-8640-72fbbc6920ad",
   "metadata": {},
   "source": [
    "## Q8"
   ]
  },
  {
   "cell_type": "markdown",
   "id": "8d61ab4c-c3e3-42a1-a651-c9a14672e580",
   "metadata": {},
   "source": [
    "8. In this question, you're going to create some plots to show the distribution of GDP per capita for the year 2020. Go to the Python Graph Gallery (https://www.python-graph-gallery.com/) and look at the different types of plots under the Distribution section. Create a histogram, a density plot, a boxplot, and a violin plot. What do you notice when you look at these plots? How do the plots compare and what information can you get out of one type that you can't necessarily get out of the others?\r\n"
   ]
  },
  {
   "cell_type": "code",
   "execution_count": 11,
   "id": "7197e072-b544-4ea2-bef8-d02556fdc80f",
   "metadata": {},
   "outputs": [],
   "source": [
    "#Getting 2020 \n",
    "year_2020 = gdp_df[gdp_df[\"Year\"] == 2020]"
   ]
  },
  {
   "cell_type": "code",
   "execution_count": 12,
   "id": "9a3043a7-8e13-47ec-92cd-2fd9e3881a76",
   "metadata": {},
   "outputs": [
    {
     "data": {
      "text/html": [
       "<div>\n",
       "<style scoped>\n",
       "    .dataframe tbody tr th:only-of-type {\n",
       "        vertical-align: middle;\n",
       "    }\n",
       "\n",
       "    .dataframe tbody tr th {\n",
       "        vertical-align: top;\n",
       "    }\n",
       "\n",
       "    .dataframe thead th {\n",
       "        text-align: right;\n",
       "    }\n",
       "</style>\n",
       "<table border=\"1\" class=\"dataframe\">\n",
       "  <thead>\n",
       "    <tr style=\"text-align: right;\">\n",
       "      <th></th>\n",
       "      <th>Country</th>\n",
       "      <th>Year</th>\n",
       "      <th>GDP_Per_Capita</th>\n",
       "    </tr>\n",
       "  </thead>\n",
       "  <tbody>\n",
       "    <tr>\n",
       "      <th>1</th>\n",
       "      <td>Afghanistan</td>\n",
       "      <td>2020</td>\n",
       "      <td>1968.341002</td>\n",
       "    </tr>\n",
       "    <tr>\n",
       "      <th>22</th>\n",
       "      <td>Africa Eastern and Southern</td>\n",
       "      <td>2020</td>\n",
       "      <td>3455.023119</td>\n",
       "    </tr>\n",
       "    <tr>\n",
       "      <th>55</th>\n",
       "      <td>Africa Western and Central</td>\n",
       "      <td>2020</td>\n",
       "      <td>3957.933804</td>\n",
       "    </tr>\n",
       "    <tr>\n",
       "      <th>88</th>\n",
       "      <td>Albania</td>\n",
       "      <td>2020</td>\n",
       "      <td>13278.369769</td>\n",
       "    </tr>\n",
       "    <tr>\n",
       "      <th>121</th>\n",
       "      <td>Algeria</td>\n",
       "      <td>2020</td>\n",
       "      <td>10844.770764</td>\n",
       "    </tr>\n",
       "  </tbody>\n",
       "</table>\n",
       "</div>"
      ],
      "text/plain": [
       "                         Country  Year  GDP_Per_Capita\n",
       "1                    Afghanistan  2020     1968.341002\n",
       "22   Africa Eastern and Southern  2020     3455.023119\n",
       "55    Africa Western and Central  2020     3957.933804\n",
       "88                       Albania  2020    13278.369769\n",
       "121                      Algeria  2020    10844.770764"
      ]
     },
     "execution_count": 12,
     "metadata": {},
     "output_type": "execute_result"
    }
   ],
   "source": [
    "year_2020.head()"
   ]
  },
  {
   "cell_type": "code",
   "execution_count": 13,
   "id": "bc2f7611-96a9-4846-9145-148c59f76cc7",
   "metadata": {},
   "outputs": [
    {
     "name": "stderr",
     "output_type": "stream",
     "text": [
      "C:\\Users\\adaly\\anaconda3\\Lib\\site-packages\\seaborn\\_oldcore.py:1119: FutureWarning: use_inf_as_na option is deprecated and will be removed in a future version. Convert inf values to NaN before operating instead.\n",
      "  with pd.option_context('mode.use_inf_as_na', True):\n"
     ]
    },
    {
     "data": {
      "text/plain": [
       "<Axes: xlabel='GDP_Per_Capita', ylabel='Count'>"
      ]
     },
     "execution_count": 13,
     "metadata": {},
     "output_type": "execute_result"
    },
    {
     "data": {
      "image/png": "[encoded data removed]",
      "text/plain": [
       "<Figure size 640x480 with 1 Axes>"
      ]
     },
     "metadata": {},
     "output_type": "display_data"
    }
   ],
   "source": [
    "#Histogram\n",
    "sns.histplot(data=year_2020, x=\"GDP_Per_Capita\")"
   ]
  },
  {
   "cell_type": "code",
   "execution_count": 14,
   "id": "45049500-6928-4999-85e6-9fb3bce35526",
   "metadata": {},
   "outputs": [
    {
     "name": "stderr",
     "output_type": "stream",
     "text": [
      "C:\\Users\\adaly\\anaconda3\\Lib\\site-packages\\seaborn\\_oldcore.py:1119: FutureWarning: use_inf_as_na option is deprecated and will be removed in a future version. Convert inf values to NaN before operating instead.\n",
      "  with pd.option_context('mode.use_inf_as_na', True):\n"
     ]
    },
    {
     "data": {
      "text/plain": [
       "<Axes: xlabel='GDP_Per_Capita', ylabel='Density'>"
      ]
     },
     "execution_count": 14,
     "metadata": {},
     "output_type": "execute_result"
    },
    {
     "data": {
      "image/png": "[encoded data removed]",
      "text/plain": [
       "<Figure size 640x480 with 1 Axes>"
      ]
     },
     "metadata": {},
     "output_type": "display_data"
    }
   ],
   "source": [
    "#Density plot\n",
    "sns.kdeplot(year_2020[\"GDP_Per_Capita\"])"
   ]
  },
  {
   "cell_type": "code",
   "execution_count": 15,
   "id": "f3614ce1-33e1-4841-89e6-234736e1ce17",
   "metadata": {},
   "outputs": [
    {
     "data": {
      "text/plain": [
       "<Axes: xlabel='GDP_Per_Capita'>"
      ]
     },
     "execution_count": 15,
     "metadata": {},
     "output_type": "execute_result"
    },
    {
     "data": {
      "image/png": "[encoded data removed]",
      "text/plain": [
       "<Figure size 640x480 with 1 Axes>"
      ]
     },
     "metadata": {},
     "output_type": "display_data"
    }
   ],
   "source": [
    "#Boxplot\n",
    "sns.boxplot(x=year_2020[\"GDP_Per_Capita\"])"
   ]
  },
  {
   "cell_type": "code",
   "execution_count": 16,
   "id": "e9434725-c0d9-4f36-92a9-4385e1b59010",
   "metadata": {},
   "outputs": [
    {
     "data": {
      "text/plain": [
       "<Axes: xlabel='GDP_Per_Capita'>"
      ]
     },
     "execution_count": 16,
     "metadata": {},
     "output_type": "execute_result"
    },
    {
     "data": {
      "image/png": "[encoded data removed]",
      "text/plain": [
       "<Figure size 640x480 with 1 Axes>"
      ]
     },
     "metadata": {},
     "output_type": "display_data"
    }
   ],
   "source": [
    "#Violin plot\n",
    "sns.violinplot(x=year_2020[\"GDP_Per_Capita\"])"
   ]
  },
  {
   "cell_type": "code",
   "execution_count": null,
   "id": "fddb830a-f3f5-45a5-973c-409d6a746da5",
   "metadata": {},
   "outputs": [],
   "source": []
  },
  {
   "cell_type": "markdown",
   "id": "06a01541-185a-4289-aa01-093848ba67ed",
   "metadata": {},
   "source": [
    "## Q9"
   ]
  },
  {
   "cell_type": "markdown",
   "id": "14383502-9426-408d-a338-c586fee9f130",
   "metadata": {},
   "source": [
    "9. What was the median GDP per capita value in 2020?\n"
   ]
  },
  {
   "cell_type": "code",
   "execution_count": 17,
   "id": "87c3ff98-43fb-4d73-a0b8-cbfbe63f77f5",
   "metadata": {},
   "outputs": [
    {
     "data": {
      "text/plain": [
       "13357.997573370474"
      ]
     },
     "execution_count": 17,
     "metadata": {},
     "output_type": "execute_result"
    }
   ],
   "source": [
    "year_2020[\"GDP_Per_Capita\"].median()"
   ]
  },
  {
   "cell_type": "markdown",
   "id": "245da7e1-1bb5-43b4-b9e2-168b9746c917",
   "metadata": {},
   "source": [
    "Answer 9 (rounded): 13,358"
   ]
  },
  {
   "cell_type": "code",
   "execution_count": null,
   "id": "0b055d02-25b7-48a4-8f8c-129c7275dfd0",
   "metadata": {},
   "outputs": [],
   "source": []
  },
  {
   "cell_type": "markdown",
   "id": "4ad2fe4d-494b-4a8c-a356-09ca951c205b",
   "metadata": {},
   "source": [
    "## Q10"
   ]
  },
  {
   "cell_type": "markdown",
   "id": "de5b2b74-516d-4bef-96a2-e5cb3a8240cc",
   "metadata": {},
   "source": [
    "10. For this question, you're going to create some visualizations to compare GDP per capita values for the years 1990, 2000, 2010, and 2020. Start by subsetting your data to just these 4 years into a new DataFrame named gdp_decades. Using this, create the following 4 plots:\r\n",
    "\t* A boxplot\r\n",
    "\t* A barplot (check out the Barplot with Seaborn section: https://www.python-graph-gallery.com/barplot/#Seaborn)\r\n",
    "\t* A scatterplot\r\n",
    "\t* A scatterplot with a trend line overlaid (see this regplot example: https://www.python-graph-gallery.com/42-custom-linear-regression-fit-seaborn)  \r\n",
    "Comment on what you observe has happened to GDP values over time and the relative strengths and weaknesses of each type of lot.\r\n"
   ]
  },
  {
   "cell_type": "code",
   "execution_count": 18,
   "id": "e2fa8afa-1f66-4c2a-9455-6878aa8be7e6",
   "metadata": {},
   "outputs": [],
   "source": [
    "#Narrowing down the info to the years 1990, 2000, 2010, 2020 and saving it to gdp_decades\n",
    "gdp_decades = gdp_df[(gdp_df[\"Year\"] == 1990) | (gdp_df[\"Year\"] == 2000) | (gdp_df[\"Year\"] == 2010) | (gdp_df[\"Year\"] == 2020)]"
   ]
  },
  {
   "cell_type": "code",
   "execution_count": 19,
   "id": "7b1a033b-ab53-46c4-a5bb-48393b4d5c26",
   "metadata": {},
   "outputs": [
    {
     "data": {
      "text/html": [
       "<div>\n",
       "<style scoped>\n",
       "    .dataframe tbody tr th:only-of-type {\n",
       "        vertical-align: middle;\n",
       "    }\n",
       "\n",
       "    .dataframe tbody tr th {\n",
       "        vertical-align: top;\n",
       "    }\n",
       "\n",
       "    .dataframe thead th {\n",
       "        text-align: right;\n",
       "    }\n",
       "</style>\n",
       "<table border=\"1\" class=\"dataframe\">\n",
       "  <thead>\n",
       "    <tr style=\"text-align: right;\">\n",
       "      <th></th>\n",
       "      <th>Country</th>\n",
       "      <th>Year</th>\n",
       "      <th>GDP_Per_Capita</th>\n",
       "    </tr>\n",
       "  </thead>\n",
       "  <tbody>\n",
       "    <tr>\n",
       "      <th>1</th>\n",
       "      <td>Afghanistan</td>\n",
       "      <td>2020</td>\n",
       "      <td>1968.341002</td>\n",
       "    </tr>\n",
       "    <tr>\n",
       "      <th>11</th>\n",
       "      <td>Afghanistan</td>\n",
       "      <td>2010</td>\n",
       "      <td>2026.163818</td>\n",
       "    </tr>\n",
       "    <tr>\n",
       "      <th>22</th>\n",
       "      <td>Africa Eastern and Southern</td>\n",
       "      <td>2020</td>\n",
       "      <td>3455.023119</td>\n",
       "    </tr>\n",
       "    <tr>\n",
       "      <th>32</th>\n",
       "      <td>Africa Eastern and Southern</td>\n",
       "      <td>2010</td>\n",
       "      <td>3513.315920</td>\n",
       "    </tr>\n",
       "    <tr>\n",
       "      <th>42</th>\n",
       "      <td>Africa Eastern and Southern</td>\n",
       "      <td>2000</td>\n",
       "      <td>2897.140841</td>\n",
       "    </tr>\n",
       "  </tbody>\n",
       "</table>\n",
       "</div>"
      ],
      "text/plain": [
       "                        Country  Year  GDP_Per_Capita\n",
       "1                   Afghanistan  2020     1968.341002\n",
       "11                  Afghanistan  2010     2026.163818\n",
       "22  Africa Eastern and Southern  2020     3455.023119\n",
       "32  Africa Eastern and Southern  2010     3513.315920\n",
       "42  Africa Eastern and Southern  2000     2897.140841"
      ]
     },
     "execution_count": 19,
     "metadata": {},
     "output_type": "execute_result"
    }
   ],
   "source": [
    "gdp_decades.head()"
   ]
  },
  {
   "cell_type": "code",
   "execution_count": 20,
   "id": "340ef857-9a34-449c-86dd-6b033bef67cb",
   "metadata": {},
   "outputs": [
    {
     "data": {
      "text/plain": [
       "<Axes: xlabel='Year', ylabel='GDP_Per_Capita'>"
      ]
     },
     "execution_count": 20,
     "metadata": {},
     "output_type": "execute_result"
    },
    {
     "data": {
      "image/png": "[encoded data removed]",
      "text/plain": [
       "<Figure size 640x480 with 1 Axes>"
      ]
     },
     "metadata": {},
     "output_type": "display_data"
    }
   ],
   "source": [
    "#Boxplot\n",
    "sns.boxplot(x=gdp_decades[\"Year\"], y=gdp_decades[\"GDP_Per_Capita\"])"
   ]
  },
  {
   "cell_type": "code",
   "execution_count": 21,
   "id": "41d9772d-896d-41e6-96fb-89d806fb133d",
   "metadata": {},
   "outputs": [
    {
     "data": {
      "text/plain": [
       "<Axes: xlabel='Year', ylabel='GDP_Per_Capita'>"
      ]
     },
     "execution_count": 21,
     "metadata": {},
     "output_type": "execute_result"
    },
    {
     "data": {
      "image/png": "[encoded data removed]",
      "text/plain": [
       "<Figure size 640x480 with 1 Axes>"
      ]
     },
     "metadata": {},
     "output_type": "display_data"
    }
   ],
   "source": [
    "#Barplot\n",
    "sns.barplot(\n",
    "    x=\"Year\", \n",
    "    y=\"GDP_Per_Capita\",\n",
    "    data=gdp_decades, \n",
    "    )"
   ]
  },
  {
   "cell_type": "code",
   "execution_count": 22,
   "id": "5aa61c81-d160-4391-b39e-7c421d3a3eac",
   "metadata": {},
   "outputs": [
    {
     "data": {
      "text/plain": [
       "<Axes: xlabel='Year', ylabel='GDP_Per_Capita'>"
      ]
     },
     "execution_count": 22,
     "metadata": {},
     "output_type": "execute_result"
    },
    {
     "data": {
      "image/png": "[encoded data removed]",
      "text/plain": [
       "<Figure size 640x480 with 1 Axes>"
      ]
     },
     "metadata": {},
     "output_type": "display_data"
    }
   ],
   "source": [
    "#Scatterplot\n",
    "sns.regplot(x=gdp_decades[\"Year\"], y=gdp_decades[\"GDP_Per_Capita\"], fit_reg=False)"
   ]
  },
  {
   "cell_type": "code",
   "execution_count": 23,
   "id": "10e57e95-be2b-48a0-b071-212db56826ce",
   "metadata": {},
   "outputs": [
    {
     "data": {
      "image/png": "[encoded data removed]",
      "text/plain": [
       "<Figure size 800x600 with 1 Axes>"
      ]
     },
     "metadata": {},
     "output_type": "display_data"
    }
   ],
   "source": [
    "#Scatterplot with trend line\n",
    "fig, ax = plt.subplots(figsize=(8, 6))\n",
    "sns.regplot(\n",
    "    x=gdp_decades[\"Year\"],\n",
    "    y=gdp_decades[\"GDP_Per_Capita\"],\n",
    "    line_kws={\"color\": \"r\"},\n",
    "    ax=ax\n",
    ")\n",
    "plt.show()"
   ]
  },
  {
   "cell_type": "code",
   "execution_count": null,
   "id": "bd0180cb-ddaa-49a6-a11a-9deecebba72b",
   "metadata": {},
   "outputs": [],
   "source": []
  },
  {
   "cell_type": "markdown",
   "id": "d74ed3aa-81e2-43b3-8c47-a70d96779ef1",
   "metadata": {},
   "source": [
    "## Q11"
   ]
  },
  {
   "cell_type": "markdown",
   "id": "5e7ef8f2-30be-43f1-be12-28d9a654c87c",
   "metadata": {},
   "source": [
    "11. Which country was the first to have a GDP per capita greater than $100,000?\n"
   ]
  },
  {
   "cell_type": "code",
   "execution_count": 24,
   "id": "7cce894c-cc9e-4a13-a2a5-d557f9c9f656",
   "metadata": {},
   "outputs": [
    {
     "data": {
      "text/html": [
       "<div>\n",
       "<style scoped>\n",
       "    .dataframe tbody tr th:only-of-type {\n",
       "        vertical-align: middle;\n",
       "    }\n",
       "\n",
       "    .dataframe tbody tr th {\n",
       "        vertical-align: top;\n",
       "    }\n",
       "\n",
       "    .dataframe thead th {\n",
       "        text-align: right;\n",
       "    }\n",
       "</style>\n",
       "<table border=\"1\" class=\"dataframe\">\n",
       "  <thead>\n",
       "    <tr style=\"text-align: right;\">\n",
       "      <th></th>\n",
       "      <th>Country</th>\n",
       "      <th>Year</th>\n",
       "      <th>GDP_Per_Capita</th>\n",
       "    </tr>\n",
       "  </thead>\n",
       "  <tbody>\n",
       "    <tr>\n",
       "      <th>0</th>\n",
       "      <td>Afghanistan</td>\n",
       "      <td>2021</td>\n",
       "      <td>1517.016266</td>\n",
       "    </tr>\n",
       "    <tr>\n",
       "      <th>1</th>\n",
       "      <td>Afghanistan</td>\n",
       "      <td>2020</td>\n",
       "      <td>1968.341002</td>\n",
       "    </tr>\n",
       "    <tr>\n",
       "      <th>2</th>\n",
       "      <td>Afghanistan</td>\n",
       "      <td>2019</td>\n",
       "      <td>2079.921861</td>\n",
       "    </tr>\n",
       "    <tr>\n",
       "      <th>3</th>\n",
       "      <td>Afghanistan</td>\n",
       "      <td>2018</td>\n",
       "      <td>2060.698973</td>\n",
       "    </tr>\n",
       "    <tr>\n",
       "      <th>4</th>\n",
       "      <td>Afghanistan</td>\n",
       "      <td>2017</td>\n",
       "      <td>2096.093111</td>\n",
       "    </tr>\n",
       "  </tbody>\n",
       "</table>\n",
       "</div>"
      ],
      "text/plain": [
       "       Country  Year  GDP_Per_Capita\n",
       "0  Afghanistan  2021     1517.016266\n",
       "1  Afghanistan  2020     1968.341002\n",
       "2  Afghanistan  2019     2079.921861\n",
       "3  Afghanistan  2018     2060.698973\n",
       "4  Afghanistan  2017     2096.093111"
      ]
     },
     "execution_count": 24,
     "metadata": {},
     "output_type": "execute_result"
    }
   ],
   "source": [
    "gdp_df.head()"
   ]
  },
  {
   "cell_type": "code",
   "execution_count": 25,
   "id": "16213f41-e45d-44df-b29c-40a6ea960063",
   "metadata": {},
   "outputs": [
    {
     "data": {
      "text/plain": [
       "Year  Country                    \n",
       "1990  Africa Eastern and Southern      3037.297466\n",
       "      Africa Western and Central       2788.301039\n",
       "      Albania                          4827.027705\n",
       "      Algeria                          8828.874473\n",
       "      Angola                           5793.084512\n",
       "                                         ...      \n",
       "      Ukraine                         16428.480469\n",
       "      United Arab Emirates           105893.626059\n",
       "      United Kingdom                  31308.140875\n",
       "      United States                   40451.498405\n",
       "      Upper middle income              5830.193002\n",
       "Name: GDP_Per_Capita, Length: 200, dtype: float64"
      ]
     },
     "execution_count": 25,
     "metadata": {},
     "output_type": "execute_result"
    }
   ],
   "source": [
    "gdp_df.groupby([\"Year\", \"Country\"])[\"GDP_Per_Capita\"].max().head(200)"
   ]
  },
  {
   "cell_type": "markdown",
   "id": "727c55a5-5aed-48af-a287-4157eb92ac51",
   "metadata": {},
   "source": [
    "Answer: United Arab Emirates was the first to have a GDP per capita greater than $100k."
   ]
  },
  {
   "cell_type": "code",
   "execution_count": null,
   "id": "3aad47b4-7525-4853-a227-1dbdc1b209c7",
   "metadata": {},
   "outputs": [],
   "source": []
  },
  {
   "cell_type": "markdown",
   "id": "c7642111-5199-4cf3-875a-3799775a130c",
   "metadata": {},
   "source": [
    "## Q12"
   ]
  },
  {
   "cell_type": "markdown",
   "id": "d53eb6c4-c22a-40a4-b249-022719868c4e",
   "metadata": {},
   "source": [
    "12. Which country had the highest GDP per capita in 2020? Create a plot showing how this country's GDP per capita has changed over the timespan of the dataset."
   ]
  },
  {
   "cell_type": "code",
   "execution_count": 26,
   "id": "b53e938f-d99f-4570-853f-3700896c5edc",
   "metadata": {},
   "outputs": [
    {
     "data": {
      "text/html": [
       "<div>\n",
       "<style scoped>\n",
       "    .dataframe tbody tr th:only-of-type {\n",
       "        vertical-align: middle;\n",
       "    }\n",
       "\n",
       "    .dataframe tbody tr th {\n",
       "        vertical-align: top;\n",
       "    }\n",
       "\n",
       "    .dataframe thead th {\n",
       "        text-align: right;\n",
       "    }\n",
       "</style>\n",
       "<table border=\"1\" class=\"dataframe\">\n",
       "  <thead>\n",
       "    <tr style=\"text-align: right;\">\n",
       "      <th></th>\n",
       "      <th>Country</th>\n",
       "      <th>Year</th>\n",
       "      <th>GDP_Per_Capita</th>\n",
       "    </tr>\n",
       "  </thead>\n",
       "  <tbody>\n",
       "    <tr>\n",
       "      <th>4148</th>\n",
       "      <td>Luxembourg</td>\n",
       "      <td>2020</td>\n",
       "      <td>111751.314751</td>\n",
       "    </tr>\n",
       "  </tbody>\n",
       "</table>\n",
       "</div>"
      ],
      "text/plain": [
       "         Country  Year  GDP_Per_Capita\n",
       "4148  Luxembourg  2020   111751.314751"
      ]
     },
     "execution_count": 26,
     "metadata": {},
     "output_type": "execute_result"
    }
   ],
   "source": [
    "year_2020[year_2020[\"GDP_Per_Capita\"]==year_2020[\"GDP_Per_Capita\"].max()]"
   ]
  },
  {
   "cell_type": "markdown",
   "id": "403bb25b-0b35-473b-8402-cba87dd78107",
   "metadata": {},
   "source": [
    "Answer: Luxembourg had the highest GDP per capita in 2020."
   ]
  },
  {
   "cell_type": "code",
   "execution_count": 27,
   "id": "0aac74e5-b84f-4686-9baa-6c3e7e10d02d",
   "metadata": {},
   "outputs": [],
   "source": [
    "#Getting year and GDP per capita data for Luxembourg\n",
    "lxmbrg = gdp_df[gdp_df[\"Country\"]==\"Luxembourg\"]"
   ]
  },
  {
   "cell_type": "code",
   "execution_count": 28,
   "id": "09d23dd9-7e2a-440f-8203-0b79a0e47be0",
   "metadata": {},
   "outputs": [
    {
     "data": {
      "text/html": [
       "<div>\n",
       "<style scoped>\n",
       "    .dataframe tbody tr th:only-of-type {\n",
       "        vertical-align: middle;\n",
       "    }\n",
       "\n",
       "    .dataframe tbody tr th {\n",
       "        vertical-align: top;\n",
       "    }\n",
       "\n",
       "    .dataframe thead th {\n",
       "        text-align: right;\n",
       "    }\n",
       "</style>\n",
       "<table border=\"1\" class=\"dataframe\">\n",
       "  <thead>\n",
       "    <tr style=\"text-align: right;\">\n",
       "      <th></th>\n",
       "      <th>Country</th>\n",
       "      <th>Year</th>\n",
       "      <th>GDP_Per_Capita</th>\n",
       "    </tr>\n",
       "  </thead>\n",
       "  <tbody>\n",
       "    <tr>\n",
       "      <th>4146</th>\n",
       "      <td>Luxembourg</td>\n",
       "      <td>2022</td>\n",
       "      <td>115541.774828</td>\n",
       "    </tr>\n",
       "    <tr>\n",
       "      <th>4147</th>\n",
       "      <td>Luxembourg</td>\n",
       "      <td>2021</td>\n",
       "      <td>115683.493708</td>\n",
       "    </tr>\n",
       "    <tr>\n",
       "      <th>4148</th>\n",
       "      <td>Luxembourg</td>\n",
       "      <td>2020</td>\n",
       "      <td>111751.314751</td>\n",
       "    </tr>\n",
       "    <tr>\n",
       "      <th>4149</th>\n",
       "      <td>Luxembourg</td>\n",
       "      <td>2019</td>\n",
       "      <td>114542.496934</td>\n",
       "    </tr>\n",
       "    <tr>\n",
       "      <th>4150</th>\n",
       "      <td>Luxembourg</td>\n",
       "      <td>2018</td>\n",
       "      <td>114164.468558</td>\n",
       "    </tr>\n",
       "    <tr>\n",
       "      <th>4151</th>\n",
       "      <td>Luxembourg</td>\n",
       "      <td>2017</td>\n",
       "      <td>114985.842236</td>\n",
       "    </tr>\n",
       "    <tr>\n",
       "      <th>4152</th>\n",
       "      <td>Luxembourg</td>\n",
       "      <td>2016</td>\n",
       "      <td>116283.699681</td>\n",
       "    </tr>\n",
       "    <tr>\n",
       "      <th>4153</th>\n",
       "      <td>Luxembourg</td>\n",
       "      <td>2015</td>\n",
       "      <td>113182.728563</td>\n",
       "    </tr>\n",
       "    <tr>\n",
       "      <th>4154</th>\n",
       "      <td>Luxembourg</td>\n",
       "      <td>2014</td>\n",
       "      <td>113313.578898</td>\n",
       "    </tr>\n",
       "    <tr>\n",
       "      <th>4155</th>\n",
       "      <td>Luxembourg</td>\n",
       "      <td>2013</td>\n",
       "      <td>113050.663254</td>\n",
       "    </tr>\n",
       "    <tr>\n",
       "      <th>4156</th>\n",
       "      <td>Luxembourg</td>\n",
       "      <td>2012</td>\n",
       "      <td>112137.135491</td>\n",
       "    </tr>\n",
       "    <tr>\n",
       "      <th>4157</th>\n",
       "      <td>Luxembourg</td>\n",
       "      <td>2011</td>\n",
       "      <td>112998.390477</td>\n",
       "    </tr>\n",
       "    <tr>\n",
       "      <th>4158</th>\n",
       "      <td>Luxembourg</td>\n",
       "      <td>2010</td>\n",
       "      <td>114343.988089</td>\n",
       "    </tr>\n",
       "    <tr>\n",
       "      <th>4159</th>\n",
       "      <td>Luxembourg</td>\n",
       "      <td>2009</td>\n",
       "      <td>112230.081410</td>\n",
       "    </tr>\n",
       "    <tr>\n",
       "      <th>4160</th>\n",
       "      <td>Luxembourg</td>\n",
       "      <td>2008</td>\n",
       "      <td>118154.667184</td>\n",
       "    </tr>\n",
       "    <tr>\n",
       "      <th>4161</th>\n",
       "      <td>Luxembourg</td>\n",
       "      <td>2007</td>\n",
       "      <td>120647.822959</td>\n",
       "    </tr>\n",
       "    <tr>\n",
       "      <th>4162</th>\n",
       "      <td>Luxembourg</td>\n",
       "      <td>2006</td>\n",
       "      <td>113346.035782</td>\n",
       "    </tr>\n",
       "    <tr>\n",
       "      <th>4163</th>\n",
       "      <td>Luxembourg</td>\n",
       "      <td>2005</td>\n",
       "      <td>108632.360016</td>\n",
       "    </tr>\n",
       "    <tr>\n",
       "      <th>4164</th>\n",
       "      <td>Luxembourg</td>\n",
       "      <td>2004</td>\n",
       "      <td>107634.837198</td>\n",
       "    </tr>\n",
       "    <tr>\n",
       "      <th>4165</th>\n",
       "      <td>Luxembourg</td>\n",
       "      <td>2003</td>\n",
       "      <td>104743.000088</td>\n",
       "    </tr>\n",
       "    <tr>\n",
       "      <th>4166</th>\n",
       "      <td>Luxembourg</td>\n",
       "      <td>2002</td>\n",
       "      <td>103317.331098</td>\n",
       "    </tr>\n",
       "    <tr>\n",
       "      <th>4167</th>\n",
       "      <td>Luxembourg</td>\n",
       "      <td>2001</td>\n",
       "      <td>101143.147977</td>\n",
       "    </tr>\n",
       "    <tr>\n",
       "      <th>4168</th>\n",
       "      <td>Luxembourg</td>\n",
       "      <td>2000</td>\n",
       "      <td>99301.526999</td>\n",
       "    </tr>\n",
       "    <tr>\n",
       "      <th>4169</th>\n",
       "      <td>Luxembourg</td>\n",
       "      <td>1999</td>\n",
       "      <td>94115.384035</td>\n",
       "    </tr>\n",
       "    <tr>\n",
       "      <th>4170</th>\n",
       "      <td>Luxembourg</td>\n",
       "      <td>1998</td>\n",
       "      <td>88185.800110</td>\n",
       "    </tr>\n",
       "    <tr>\n",
       "      <th>4171</th>\n",
       "      <td>Luxembourg</td>\n",
       "      <td>1997</td>\n",
       "      <td>83702.813530</td>\n",
       "    </tr>\n",
       "    <tr>\n",
       "      <th>4172</th>\n",
       "      <td>Luxembourg</td>\n",
       "      <td>1996</td>\n",
       "      <td>80401.032017</td>\n",
       "    </tr>\n",
       "    <tr>\n",
       "      <th>4173</th>\n",
       "      <td>Luxembourg</td>\n",
       "      <td>1995</td>\n",
       "      <td>80379.127629</td>\n",
       "    </tr>\n",
       "    <tr>\n",
       "      <th>4174</th>\n",
       "      <td>Luxembourg</td>\n",
       "      <td>1994</td>\n",
       "      <td>80365.224508</td>\n",
       "    </tr>\n",
       "    <tr>\n",
       "      <th>4175</th>\n",
       "      <td>Luxembourg</td>\n",
       "      <td>1993</td>\n",
       "      <td>78468.921760</td>\n",
       "    </tr>\n",
       "    <tr>\n",
       "      <th>4176</th>\n",
       "      <td>Luxembourg</td>\n",
       "      <td>1992</td>\n",
       "      <td>76323.304753</td>\n",
       "    </tr>\n",
       "    <tr>\n",
       "      <th>4177</th>\n",
       "      <td>Luxembourg</td>\n",
       "      <td>1991</td>\n",
       "      <td>75961.668717</td>\n",
       "    </tr>\n",
       "    <tr>\n",
       "      <th>4178</th>\n",
       "      <td>Luxembourg</td>\n",
       "      <td>1990</td>\n",
       "      <td>70860.819124</td>\n",
       "    </tr>\n",
       "  </tbody>\n",
       "</table>\n",
       "</div>"
      ],
      "text/plain": [
       "         Country  Year  GDP_Per_Capita\n",
       "4146  Luxembourg  2022   115541.774828\n",
       "4147  Luxembourg  2021   115683.493708\n",
       "4148  Luxembourg  2020   111751.314751\n",
       "4149  Luxembourg  2019   114542.496934\n",
       "4150  Luxembourg  2018   114164.468558\n",
       "4151  Luxembourg  2017   114985.842236\n",
       "4152  Luxembourg  2016   116283.699681\n",
       "4153  Luxembourg  2015   113182.728563\n",
       "4154  Luxembourg  2014   113313.578898\n",
       "4155  Luxembourg  2013   113050.663254\n",
       "4156  Luxembourg  2012   112137.135491\n",
       "4157  Luxembourg  2011   112998.390477\n",
       "4158  Luxembourg  2010   114343.988089\n",
       "4159  Luxembourg  2009   112230.081410\n",
       "4160  Luxembourg  2008   118154.667184\n",
       "4161  Luxembourg  2007   120647.822959\n",
       "4162  Luxembourg  2006   113346.035782\n",
       "4163  Luxembourg  2005   108632.360016\n",
       "4164  Luxembourg  2004   107634.837198\n",
       "4165  Luxembourg  2003   104743.000088\n",
       "4166  Luxembourg  2002   103317.331098\n",
       "4167  Luxembourg  2001   101143.147977\n",
       "4168  Luxembourg  2000    99301.526999\n",
       "4169  Luxembourg  1999    94115.384035\n",
       "4170  Luxembourg  1998    88185.800110\n",
       "4171  Luxembourg  1997    83702.813530\n",
       "4172  Luxembourg  1996    80401.032017\n",
       "4173  Luxembourg  1995    80379.127629\n",
       "4174  Luxembourg  1994    80365.224508\n",
       "4175  Luxembourg  1993    78468.921760\n",
       "4176  Luxembourg  1992    76323.304753\n",
       "4177  Luxembourg  1991    75961.668717\n",
       "4178  Luxembourg  1990    70860.819124"
      ]
     },
     "execution_count": 28,
     "metadata": {},
     "output_type": "execute_result"
    }
   ],
   "source": [
    "lxmbrg"
   ]
  },
  {
   "cell_type": "code",
   "execution_count": 29,
   "id": "4d45782e-91a3-4667-80fd-d61c17d4854e",
   "metadata": {},
   "outputs": [
    {
     "data": {
      "text/plain": [
       "[<matplotlib.lines.Line2D at 0x29b5f122490>]"
      ]
     },
     "execution_count": 29,
     "metadata": {},
     "output_type": "execute_result"
    },
    {
     "data": {
      "image/png": "[encoded data removed]",
      "text/plain": [
       "<Figure size 640x480 with 1 Axes>"
      ]
     },
     "metadata": {},
     "output_type": "display_data"
    }
   ],
   "source": [
    "#Creating a plot showing Luxembourg's per capita over the dataset's timespan\n",
    "plt.plot(\"Year\", \"GDP_Per_Capita\", data=lxmbrg)"
   ]
  },
  {
   "cell_type": "markdown",
   "id": "f66ce10a-34d3-419d-91ee-460611149875",
   "metadata": {},
   "source": []
  },
  {
   "cell_type": "markdown",
   "id": "bd5a6f47-e733-4af6-bfd6-6f9cf063b97d",
   "metadata": {},
   "source": [
    "## Q13"
   ]
  },
  {
   "cell_type": "markdown",
   "id": "f889e1d4-4c2e-4fe6-80e6-0d2e6c11d458",
   "metadata": {},
   "source": [
    "13. Which country had the lowest GDP per capita in 2020? Create a plot showing how this country's GDP per capita has changed over the timespan of the dataset. \n"
   ]
  },
  {
   "cell_type": "code",
   "execution_count": 30,
   "id": "00296ff8-bf9f-4803-bb73-0ce658fb1a6e",
   "metadata": {},
   "outputs": [
    {
     "data": {
      "text/html": [
       "<div>\n",
       "<style scoped>\n",
       "    .dataframe tbody tr th:only-of-type {\n",
       "        vertical-align: middle;\n",
       "    }\n",
       "\n",
       "    .dataframe tbody tr th {\n",
       "        vertical-align: top;\n",
       "    }\n",
       "\n",
       "    .dataframe thead th {\n",
       "        text-align: right;\n",
       "    }\n",
       "</style>\n",
       "<table border=\"1\" class=\"dataframe\">\n",
       "  <thead>\n",
       "    <tr style=\"text-align: right;\">\n",
       "      <th></th>\n",
       "      <th>Country</th>\n",
       "      <th>Year</th>\n",
       "      <th>GDP_Per_Capita</th>\n",
       "    </tr>\n",
       "  </thead>\n",
       "  <tbody>\n",
       "    <tr>\n",
       "      <th>973</th>\n",
       "      <td>Burundi</td>\n",
       "      <td>2020</td>\n",
       "      <td>711.355263</td>\n",
       "    </tr>\n",
       "  </tbody>\n",
       "</table>\n",
       "</div>"
      ],
      "text/plain": [
       "     Country  Year  GDP_Per_Capita\n",
       "973  Burundi  2020      711.355263"
      ]
     },
     "execution_count": 30,
     "metadata": {},
     "output_type": "execute_result"
    }
   ],
   "source": [
    "year_2020[year_2020[\"GDP_Per_Capita\"]==year_2020[\"GDP_Per_Capita\"].min()]"
   ]
  },
  {
   "cell_type": "markdown",
   "id": "67c0c632-a2a9-4921-8b67-3e44e8afad8b",
   "metadata": {},
   "source": [
    "Answer: Burundi had the lowest GDP per capita in 2020."
   ]
  },
  {
   "cell_type": "code",
   "execution_count": 31,
   "id": "74bf3463-01c9-44d4-a202-158b2437e2c1",
   "metadata": {},
   "outputs": [],
   "source": [
    "#Getting year and GDP per capita data for Burundi\n",
    "brnd = gdp_df[gdp_df[\"Country\"]==\"Burundi\"]"
   ]
  },
  {
   "cell_type": "code",
   "execution_count": 32,
   "id": "6b46d478-c13f-40ee-9df8-9678591778f5",
   "metadata": {},
   "outputs": [
    {
     "data": {
      "text/html": [
       "<div>\n",
       "<style scoped>\n",
       "    .dataframe tbody tr th:only-of-type {\n",
       "        vertical-align: middle;\n",
       "    }\n",
       "\n",
       "    .dataframe tbody tr th {\n",
       "        vertical-align: top;\n",
       "    }\n",
       "\n",
       "    .dataframe thead th {\n",
       "        text-align: right;\n",
       "    }\n",
       "</style>\n",
       "<table border=\"1\" class=\"dataframe\">\n",
       "  <thead>\n",
       "    <tr style=\"text-align: right;\">\n",
       "      <th></th>\n",
       "      <th>Country</th>\n",
       "      <th>Year</th>\n",
       "      <th>GDP_Per_Capita</th>\n",
       "    </tr>\n",
       "  </thead>\n",
       "  <tbody>\n",
       "    <tr>\n",
       "      <th>971</th>\n",
       "      <td>Burundi</td>\n",
       "      <td>2022</td>\n",
       "      <td>708.178317</td>\n",
       "    </tr>\n",
       "    <tr>\n",
       "      <th>972</th>\n",
       "      <td>Burundi</td>\n",
       "      <td>2021</td>\n",
       "      <td>714.066712</td>\n",
       "    </tr>\n",
       "    <tr>\n",
       "      <th>973</th>\n",
       "      <td>Burundi</td>\n",
       "      <td>2020</td>\n",
       "      <td>711.355263</td>\n",
       "    </tr>\n",
       "    <tr>\n",
       "      <th>974</th>\n",
       "      <td>Burundi</td>\n",
       "      <td>2019</td>\n",
       "      <td>729.658463</td>\n",
       "    </tr>\n",
       "    <tr>\n",
       "      <th>975</th>\n",
       "      <td>Burundi</td>\n",
       "      <td>2018</td>\n",
       "      <td>740.448223</td>\n",
       "    </tr>\n",
       "    <tr>\n",
       "      <th>976</th>\n",
       "      <td>Burundi</td>\n",
       "      <td>2017</td>\n",
       "      <td>750.787616</td>\n",
       "    </tr>\n",
       "    <tr>\n",
       "      <th>977</th>\n",
       "      <td>Burundi</td>\n",
       "      <td>2016</td>\n",
       "      <td>764.336602</td>\n",
       "    </tr>\n",
       "    <tr>\n",
       "      <th>978</th>\n",
       "      <td>Burundi</td>\n",
       "      <td>2015</td>\n",
       "      <td>781.579287</td>\n",
       "    </tr>\n",
       "    <tr>\n",
       "      <th>979</th>\n",
       "      <td>Burundi</td>\n",
       "      <td>2014</td>\n",
       "      <td>831.294839</td>\n",
       "    </tr>\n",
       "    <tr>\n",
       "      <th>980</th>\n",
       "      <td>Burundi</td>\n",
       "      <td>2013</td>\n",
       "      <td>824.610523</td>\n",
       "    </tr>\n",
       "    <tr>\n",
       "      <th>981</th>\n",
       "      <td>Burundi</td>\n",
       "      <td>2012</td>\n",
       "      <td>814.320771</td>\n",
       "    </tr>\n",
       "    <tr>\n",
       "      <th>982</th>\n",
       "      <td>Burundi</td>\n",
       "      <td>2011</td>\n",
       "      <td>807.664958</td>\n",
       "    </tr>\n",
       "    <tr>\n",
       "      <th>983</th>\n",
       "      <td>Burundi</td>\n",
       "      <td>2010</td>\n",
       "      <td>804.354941</td>\n",
       "    </tr>\n",
       "    <tr>\n",
       "      <th>984</th>\n",
       "      <td>Burundi</td>\n",
       "      <td>2009</td>\n",
       "      <td>801.803427</td>\n",
       "    </tr>\n",
       "    <tr>\n",
       "      <th>985</th>\n",
       "      <td>Burundi</td>\n",
       "      <td>2008</td>\n",
       "      <td>812.592170</td>\n",
       "    </tr>\n",
       "    <tr>\n",
       "      <th>986</th>\n",
       "      <td>Burundi</td>\n",
       "      <td>2007</td>\n",
       "      <td>807.447481</td>\n",
       "    </tr>\n",
       "    <tr>\n",
       "      <th>987</th>\n",
       "      <td>Burundi</td>\n",
       "      <td>2006</td>\n",
       "      <td>809.696011</td>\n",
       "    </tr>\n",
       "    <tr>\n",
       "      <th>988</th>\n",
       "      <td>Burundi</td>\n",
       "      <td>2005</td>\n",
       "      <td>796.108713</td>\n",
       "    </tr>\n",
       "    <tr>\n",
       "      <th>989</th>\n",
       "      <td>Burundi</td>\n",
       "      <td>2004</td>\n",
       "      <td>818.746063</td>\n",
       "    </tr>\n",
       "    <tr>\n",
       "      <th>990</th>\n",
       "      <td>Burundi</td>\n",
       "      <td>2003</td>\n",
       "      <td>810.552335</td>\n",
       "    </tr>\n",
       "    <tr>\n",
       "      <th>991</th>\n",
       "      <td>Burundi</td>\n",
       "      <td>2002</td>\n",
       "      <td>846.747295</td>\n",
       "    </tr>\n",
       "    <tr>\n",
       "      <th>992</th>\n",
       "      <td>Burundi</td>\n",
       "      <td>2001</td>\n",
       "      <td>833.670879</td>\n",
       "    </tr>\n",
       "    <tr>\n",
       "      <th>993</th>\n",
       "      <td>Burundi</td>\n",
       "      <td>2000</td>\n",
       "      <td>837.348411</td>\n",
       "    </tr>\n",
       "    <tr>\n",
       "      <th>994</th>\n",
       "      <td>Burundi</td>\n",
       "      <td>1999</td>\n",
       "      <td>862.006680</td>\n",
       "    </tr>\n",
       "    <tr>\n",
       "      <th>995</th>\n",
       "      <td>Burundi</td>\n",
       "      <td>1998</td>\n",
       "      <td>891.699844</td>\n",
       "    </tr>\n",
       "    <tr>\n",
       "      <th>996</th>\n",
       "      <td>Burundi</td>\n",
       "      <td>1997</td>\n",
       "      <td>867.284265</td>\n",
       "    </tr>\n",
       "    <tr>\n",
       "      <th>997</th>\n",
       "      <td>Burundi</td>\n",
       "      <td>1996</td>\n",
       "      <td>880.309412</td>\n",
       "    </tr>\n",
       "    <tr>\n",
       "      <th>998</th>\n",
       "      <td>Burundi</td>\n",
       "      <td>1995</td>\n",
       "      <td>956.490976</td>\n",
       "    </tr>\n",
       "    <tr>\n",
       "      <th>999</th>\n",
       "      <td>Burundi</td>\n",
       "      <td>1994</td>\n",
       "      <td>1103.167298</td>\n",
       "    </tr>\n",
       "    <tr>\n",
       "      <th>1000</th>\n",
       "      <td>Burundi</td>\n",
       "      <td>1993</td>\n",
       "      <td>1153.541309</td>\n",
       "    </tr>\n",
       "    <tr>\n",
       "      <th>1001</th>\n",
       "      <td>Burundi</td>\n",
       "      <td>1992</td>\n",
       "      <td>1190.067435</td>\n",
       "    </tr>\n",
       "    <tr>\n",
       "      <th>1002</th>\n",
       "      <td>Burundi</td>\n",
       "      <td>1991</td>\n",
       "      <td>1209.388158</td>\n",
       "    </tr>\n",
       "    <tr>\n",
       "      <th>1003</th>\n",
       "      <td>Burundi</td>\n",
       "      <td>1990</td>\n",
       "      <td>1175.155086</td>\n",
       "    </tr>\n",
       "  </tbody>\n",
       "</table>\n",
       "</div>"
      ],
      "text/plain": [
       "      Country  Year  GDP_Per_Capita\n",
       "971   Burundi  2022      708.178317\n",
       "972   Burundi  2021      714.066712\n",
       "973   Burundi  2020      711.355263\n",
       "974   Burundi  2019      729.658463\n",
       "975   Burundi  2018      740.448223\n",
       "976   Burundi  2017      750.787616\n",
       "977   Burundi  2016      764.336602\n",
       "978   Burundi  2015      781.579287\n",
       "979   Burundi  2014      831.294839\n",
       "980   Burundi  2013      824.610523\n",
       "981   Burundi  2012      814.320771\n",
       "982   Burundi  2011      807.664958\n",
       "983   Burundi  2010      804.354941\n",
       "984   Burundi  2009      801.803427\n",
       "985   Burundi  2008      812.592170\n",
       "986   Burundi  2007      807.447481\n",
       "987   Burundi  2006      809.696011\n",
       "988   Burundi  2005      796.108713\n",
       "989   Burundi  2004      818.746063\n",
       "990   Burundi  2003      810.552335\n",
       "991   Burundi  2002      846.747295\n",
       "992   Burundi  2001      833.670879\n",
       "993   Burundi  2000      837.348411\n",
       "994   Burundi  1999      862.006680\n",
       "995   Burundi  1998      891.699844\n",
       "996   Burundi  1997      867.284265\n",
       "997   Burundi  1996      880.309412\n",
       "998   Burundi  1995      956.490976\n",
       "999   Burundi  1994     1103.167298\n",
       "1000  Burundi  1993     1153.541309\n",
       "1001  Burundi  1992     1190.067435\n",
       "1002  Burundi  1991     1209.388158\n",
       "1003  Burundi  1990     1175.155086"
      ]
     },
     "execution_count": 32,
     "metadata": {},
     "output_type": "execute_result"
    }
   ],
   "source": [
    "brnd"
   ]
  },
  {
   "cell_type": "code",
   "execution_count": 33,
   "id": "fd5a8846-db1c-4521-886f-35f5a43ab617",
   "metadata": {},
   "outputs": [
    {
     "data": {
      "text/plain": [
       "[<matplotlib.lines.Line2D at 0x29b5f121290>]"
      ]
     },
     "execution_count": 33,
     "metadata": {},
     "output_type": "execute_result"
    },
    {
     "data": {
      "image/png": "[encoded data removed]",
      "text/plain": [
       "<Figure size 640x480 with 1 Axes>"
      ]
     },
     "metadata": {},
     "output_type": "display_data"
    }
   ],
   "source": [
    "#Creating a plot showing Burundi's per capita over the dataset's timespan\n",
    "plt.plot(\"Year\", \"GDP_Per_Capita\", data=brnd)"
   ]
  },
  {
   "cell_type": "markdown",
   "id": "32c5c2f9-6aac-4f1b-9636-aec819c26691",
   "metadata": {},
   "source": [
    "## **13 Bonus"
   ]
  },
  {
   "cell_type": "markdown",
   "id": "710206b9-090f-4b66-86f7-c846ebb4f640",
   "metadata": {},
   "source": [
    "**Bonus question:** Is it true in general that countries had a higher GDP per capita in 2020 than in 1990? Which countries had lower GDP per capita in 2020 than in 1990?"
   ]
  },
  {
   "cell_type": "code",
   "execution_count": 34,
   "id": "e57a245e-c3dc-4a8a-b4b6-6f92f75642b7",
   "metadata": {},
   "outputs": [
    {
     "data": {
      "text/plain": [
       "19586.75444556196"
      ]
     },
     "execution_count": 34,
     "metadata": {},
     "output_type": "execute_result"
    }
   ],
   "source": [
    "#Calculating the average GDP per capita for 2020\n",
    "year_2020[\"GDP_Per_Capita\"].mean()"
   ]
  },
  {
   "cell_type": "code",
   "execution_count": 35,
   "id": "f6735c92-62dd-4e5d-b48b-7ceea9928c63",
   "metadata": {},
   "outputs": [],
   "source": [
    "#Subsetting data for 1990\n",
    "year_1990 = gdp_df[gdp_df[\"Year\"] == 1990]"
   ]
  },
  {
   "cell_type": "code",
   "execution_count": 36,
   "id": "0ac18519-684c-4ac1-a787-5a12b6d631c3",
   "metadata": {},
   "outputs": [
    {
     "data": {
      "text/html": [
       "<div>\n",
       "<style scoped>\n",
       "    .dataframe tbody tr th:only-of-type {\n",
       "        vertical-align: middle;\n",
       "    }\n",
       "\n",
       "    .dataframe tbody tr th {\n",
       "        vertical-align: top;\n",
       "    }\n",
       "\n",
       "    .dataframe thead th {\n",
       "        text-align: right;\n",
       "    }\n",
       "</style>\n",
       "<table border=\"1\" class=\"dataframe\">\n",
       "  <thead>\n",
       "    <tr style=\"text-align: right;\">\n",
       "      <th></th>\n",
       "      <th>Country</th>\n",
       "      <th>Year</th>\n",
       "      <th>GDP_Per_Capita</th>\n",
       "    </tr>\n",
       "  </thead>\n",
       "  <tbody>\n",
       "    <tr>\n",
       "      <th>52</th>\n",
       "      <td>Africa Eastern and Southern</td>\n",
       "      <td>1990</td>\n",
       "      <td>3037.297466</td>\n",
       "    </tr>\n",
       "    <tr>\n",
       "      <th>85</th>\n",
       "      <td>Africa Western and Central</td>\n",
       "      <td>1990</td>\n",
       "      <td>2788.301039</td>\n",
       "    </tr>\n",
       "    <tr>\n",
       "      <th>118</th>\n",
       "      <td>Albania</td>\n",
       "      <td>1990</td>\n",
       "      <td>4827.027705</td>\n",
       "    </tr>\n",
       "    <tr>\n",
       "      <th>151</th>\n",
       "      <td>Algeria</td>\n",
       "      <td>1990</td>\n",
       "      <td>8828.874473</td>\n",
       "    </tr>\n",
       "    <tr>\n",
       "      <th>184</th>\n",
       "      <td>Angola</td>\n",
       "      <td>1990</td>\n",
       "      <td>5793.084512</td>\n",
       "    </tr>\n",
       "  </tbody>\n",
       "</table>\n",
       "</div>"
      ],
      "text/plain": [
       "                         Country  Year  GDP_Per_Capita\n",
       "52   Africa Eastern and Southern  1990     3037.297466\n",
       "85    Africa Western and Central  1990     2788.301039\n",
       "118                      Albania  1990     4827.027705\n",
       "151                      Algeria  1990     8828.874473\n",
       "184                       Angola  1990     5793.084512"
      ]
     },
     "execution_count": 36,
     "metadata": {},
     "output_type": "execute_result"
    }
   ],
   "source": [
    "year_1990.head()"
   ]
  },
  {
   "cell_type": "code",
   "execution_count": 37,
   "id": "96a6e125-41ff-4959-a3a1-a33ede85fc57",
   "metadata": {},
   "outputs": [
    {
     "data": {
      "text/plain": [
       "12506.08837386169"
      ]
     },
     "execution_count": 37,
     "metadata": {},
     "output_type": "execute_result"
    }
   ],
   "source": [
    "#Calculating the average GDP per capita for 1990\n",
    "year_1990[\"GDP_Per_Capita\"].mean()"
   ]
  },
  {
   "cell_type": "markdown",
   "id": "e6dfd36b-e73d-4b34-9b92-2742b03a93a2",
   "metadata": {},
   "source": [
    "Answer: It is true, countries in general had a higher GDP per capita in 2020 than in 1990."
   ]
  },
  {
   "cell_type": "code",
   "execution_count": 38,
   "id": "200343d3-e64a-4d4d-90bc-8c47df7b4ce7",
   "metadata": {},
   "outputs": [],
   "source": [
    "#Subsetting GDP per capita for years 1990 and 2020\n",
    "years_9020 = gdp_df[(gdp_df[\"Year\"] == 1990) | (gdp_df[\"Year\"] == 2020)]"
   ]
  },
  {
   "cell_type": "code",
   "execution_count": 39,
   "id": "510ba243-2731-4d57-9d5a-c1413fd0912b",
   "metadata": {},
   "outputs": [
    {
     "data": {
      "text/html": [
       "<div>\n",
       "<style scoped>\n",
       "    .dataframe tbody tr th:only-of-type {\n",
       "        vertical-align: middle;\n",
       "    }\n",
       "\n",
       "    .dataframe tbody tr th {\n",
       "        vertical-align: top;\n",
       "    }\n",
       "\n",
       "    .dataframe thead th {\n",
       "        text-align: right;\n",
       "    }\n",
       "</style>\n",
       "<table border=\"1\" class=\"dataframe\">\n",
       "  <thead>\n",
       "    <tr style=\"text-align: right;\">\n",
       "      <th></th>\n",
       "      <th>Country</th>\n",
       "      <th>Year</th>\n",
       "      <th>GDP_Per_Capita</th>\n",
       "    </tr>\n",
       "  </thead>\n",
       "  <tbody>\n",
       "    <tr>\n",
       "      <th>1</th>\n",
       "      <td>Afghanistan</td>\n",
       "      <td>2020</td>\n",
       "      <td>1968.341002</td>\n",
       "    </tr>\n",
       "    <tr>\n",
       "      <th>22</th>\n",
       "      <td>Africa Eastern and Southern</td>\n",
       "      <td>2020</td>\n",
       "      <td>3455.023119</td>\n",
       "    </tr>\n",
       "    <tr>\n",
       "      <th>52</th>\n",
       "      <td>Africa Eastern and Southern</td>\n",
       "      <td>1990</td>\n",
       "      <td>3037.297466</td>\n",
       "    </tr>\n",
       "    <tr>\n",
       "      <th>55</th>\n",
       "      <td>Africa Western and Central</td>\n",
       "      <td>2020</td>\n",
       "      <td>3957.933804</td>\n",
       "    </tr>\n",
       "    <tr>\n",
       "      <th>85</th>\n",
       "      <td>Africa Western and Central</td>\n",
       "      <td>1990</td>\n",
       "      <td>2788.301039</td>\n",
       "    </tr>\n",
       "    <tr>\n",
       "      <th>...</th>\n",
       "      <td>...</td>\n",
       "      <td>...</td>\n",
       "      <td>...</td>\n",
       "    </tr>\n",
       "    <tr>\n",
       "      <th>7595</th>\n",
       "      <td>World</td>\n",
       "      <td>1990</td>\n",
       "      <td>9705.981267</td>\n",
       "    </tr>\n",
       "    <tr>\n",
       "      <th>7598</th>\n",
       "      <td>Zambia</td>\n",
       "      <td>2020</td>\n",
       "      <td>3183.650773</td>\n",
       "    </tr>\n",
       "    <tr>\n",
       "      <th>7628</th>\n",
       "      <td>Zambia</td>\n",
       "      <td>1990</td>\n",
       "      <td>2290.039226</td>\n",
       "    </tr>\n",
       "    <tr>\n",
       "      <th>7631</th>\n",
       "      <td>Zimbabwe</td>\n",
       "      <td>2020</td>\n",
       "      <td>1990.319419</td>\n",
       "    </tr>\n",
       "    <tr>\n",
       "      <th>7661</th>\n",
       "      <td>Zimbabwe</td>\n",
       "      <td>1990</td>\n",
       "      <td>2704.757299</td>\n",
       "    </tr>\n",
       "  </tbody>\n",
       "</table>\n",
       "<p>449 rows × 3 columns</p>\n",
       "</div>"
      ],
      "text/plain": [
       "                          Country  Year  GDP_Per_Capita\n",
       "1                     Afghanistan  2020     1968.341002\n",
       "22    Africa Eastern and Southern  2020     3455.023119\n",
       "52    Africa Eastern and Southern  1990     3037.297466\n",
       "55     Africa Western and Central  2020     3957.933804\n",
       "85     Africa Western and Central  1990     2788.301039\n",
       "...                           ...   ...             ...\n",
       "7595                        World  1990     9705.981267\n",
       "7598                       Zambia  2020     3183.650773\n",
       "7628                       Zambia  1990     2290.039226\n",
       "7631                     Zimbabwe  2020     1990.319419\n",
       "7661                     Zimbabwe  1990     2704.757299\n",
       "\n",
       "[449 rows x 3 columns]"
      ]
     },
     "execution_count": 39,
     "metadata": {},
     "output_type": "execute_result"
    }
   ],
   "source": [
    "years_9020"
   ]
  },
  {
   "cell_type": "code",
   "execution_count": 40,
   "id": "6251b1a0-7f83-4eed-a105-58245925848a",
   "metadata": {},
   "outputs": [
    {
     "data": {
      "text/html": [
       "<div>\n",
       "<style scoped>\n",
       "    .dataframe tbody tr th:only-of-type {\n",
       "        vertical-align: middle;\n",
       "    }\n",
       "\n",
       "    .dataframe tbody tr th {\n",
       "        vertical-align: top;\n",
       "    }\n",
       "\n",
       "    .dataframe thead th {\n",
       "        text-align: right;\n",
       "    }\n",
       "</style>\n",
       "<table border=\"1\" class=\"dataframe\">\n",
       "  <thead>\n",
       "    <tr style=\"text-align: right;\">\n",
       "      <th></th>\n",
       "      <th>Country</th>\n",
       "      <th>Year</th>\n",
       "      <th>GDP_Per_Capita</th>\n",
       "    </tr>\n",
       "  </thead>\n",
       "  <tbody>\n",
       "    <tr>\n",
       "      <th>22</th>\n",
       "      <td>Africa Eastern and Southern</td>\n",
       "      <td>2020</td>\n",
       "      <td>3455.023119</td>\n",
       "    </tr>\n",
       "    <tr>\n",
       "      <th>52</th>\n",
       "      <td>Africa Eastern and Southern</td>\n",
       "      <td>1990</td>\n",
       "      <td>3037.297466</td>\n",
       "    </tr>\n",
       "    <tr>\n",
       "      <th>55</th>\n",
       "      <td>Africa Western and Central</td>\n",
       "      <td>2020</td>\n",
       "      <td>3957.933804</td>\n",
       "    </tr>\n",
       "    <tr>\n",
       "      <th>85</th>\n",
       "      <td>Africa Western and Central</td>\n",
       "      <td>1990</td>\n",
       "      <td>2788.301039</td>\n",
       "    </tr>\n",
       "    <tr>\n",
       "      <th>88</th>\n",
       "      <td>Albania</td>\n",
       "      <td>2020</td>\n",
       "      <td>13278.369769</td>\n",
       "    </tr>\n",
       "    <tr>\n",
       "      <th>...</th>\n",
       "      <td>...</td>\n",
       "      <td>...</td>\n",
       "      <td>...</td>\n",
       "    </tr>\n",
       "    <tr>\n",
       "      <th>7595</th>\n",
       "      <td>World</td>\n",
       "      <td>1990</td>\n",
       "      <td>9705.981267</td>\n",
       "    </tr>\n",
       "    <tr>\n",
       "      <th>7598</th>\n",
       "      <td>Zambia</td>\n",
       "      <td>2020</td>\n",
       "      <td>3183.650773</td>\n",
       "    </tr>\n",
       "    <tr>\n",
       "      <th>7628</th>\n",
       "      <td>Zambia</td>\n",
       "      <td>1990</td>\n",
       "      <td>2290.039226</td>\n",
       "    </tr>\n",
       "    <tr>\n",
       "      <th>7631</th>\n",
       "      <td>Zimbabwe</td>\n",
       "      <td>2020</td>\n",
       "      <td>1990.319419</td>\n",
       "    </tr>\n",
       "    <tr>\n",
       "      <th>7661</th>\n",
       "      <td>Zimbabwe</td>\n",
       "      <td>1990</td>\n",
       "      <td>2704.757299</td>\n",
       "    </tr>\n",
       "  </tbody>\n",
       "</table>\n",
       "<p>414 rows × 3 columns</p>\n",
       "</div>"
      ],
      "text/plain": [
       "                          Country  Year  GDP_Per_Capita\n",
       "22    Africa Eastern and Southern  2020     3455.023119\n",
       "52    Africa Eastern and Southern  1990     3037.297466\n",
       "55     Africa Western and Central  2020     3957.933804\n",
       "85     Africa Western and Central  1990     2788.301039\n",
       "88                        Albania  2020    13278.369769\n",
       "...                           ...   ...             ...\n",
       "7595                        World  1990     9705.981267\n",
       "7598                       Zambia  2020     3183.650773\n",
       "7628                       Zambia  1990     2290.039226\n",
       "7631                     Zimbabwe  2020     1990.319419\n",
       "7661                     Zimbabwe  1990     2704.757299\n",
       "\n",
       "[414 rows x 3 columns]"
      ]
     },
     "execution_count": 40,
     "metadata": {},
     "output_type": "execute_result"
    }
   ],
   "source": [
    "#Dropping Countries that only appear once so we can compare only countries with GDP per capita values in both 1990 & 2020\n",
    "years_9020[years_9020.groupby(\"Country\").Country.transform(len)>1]"
   ]
  },
  {
   "cell_type": "code",
   "execution_count": null,
   "id": "72a8a602-11eb-4a7b-9b24-18709ee039c9",
   "metadata": {},
   "outputs": [],
   "source": []
  },
  {
   "cell_type": "code",
   "execution_count": 41,
   "id": "1211084c-d9d0-457f-a75d-d5956453a2d0",
   "metadata": {},
   "outputs": [],
   "source": [
    "#compare_yrs = pd.concat([year_1990, year_2020], keys=[\"Country\", \"Year\"], axis=1)"
   ]
  },
  {
   "cell_type": "code",
   "execution_count": 42,
   "id": "344add79-76bb-4c1c-8ec2-cc117d353160",
   "metadata": {},
   "outputs": [],
   "source": [
    "#compare_yrs[compare_yrs.groupby(\"Country\").Country.transform(len)>1]"
   ]
  },
  {
   "cell_type": "code",
   "execution_count": null,
   "id": "ded712be-67bd-4a49-a8fb-11c8913218c7",
   "metadata": {},
   "outputs": [],
   "source": []
  },
  {
   "cell_type": "markdown",
   "id": "77b3171a-6da2-460b-9b47-34f084ee3a56",
   "metadata": {},
   "source": [
    "## Q14"
   ]
  },
  {
   "cell_type": "markdown",
   "id": "f2c49457-358d-421c-a170-f8e126e8e1fa",
   "metadata": {},
   "source": [
    "14. Read in the internet use dataset into a DataFrame named `internet_df`. You will likely get errors when doing this. Check the arguments for the read_csv function to find ones that can help correct the errors (https://pandas.pydata.org/docs/reference/api/pandas.read_csv.html) Once you are able to read it in, take a look at the top and bottom few rows to make sure that it has been read in correctly. Also, check the datatypes of the columns.\n"
   ]
  },
  {
   "cell_type": "code",
   "execution_count": 43,
   "id": "8cb0eb69-2ac0-4792-aef7-8659f2824f43",
   "metadata": {},
   "outputs": [],
   "source": [
    "#Reading in the internet dataset after opening it in Excel and doing an auto-convert to fix Values containing an \"E\"\n",
    "internet_df = pd.read_csv('../data/internet_use.csv')"
   ]
  },
  {
   "cell_type": "code",
   "execution_count": 44,
   "id": "f198d1db-c3c2-4872-b726-9eaea04e99ee",
   "metadata": {},
   "outputs": [
    {
     "data": {
      "text/html": [
       "<div>\n",
       "<style scoped>\n",
       "    .dataframe tbody tr th:only-of-type {\n",
       "        vertical-align: middle;\n",
       "    }\n",
       "\n",
       "    .dataframe tbody tr th {\n",
       "        vertical-align: top;\n",
       "    }\n",
       "\n",
       "    .dataframe thead th {\n",
       "        text-align: right;\n",
       "    }\n",
       "</style>\n",
       "<table border=\"1\" class=\"dataframe\">\n",
       "  <thead>\n",
       "    <tr style=\"text-align: right;\">\n",
       "      <th></th>\n",
       "      <th>Country or Area</th>\n",
       "      <th>Year</th>\n",
       "      <th>Value</th>\n",
       "      <th>Value Footnotes</th>\n",
       "    </tr>\n",
       "  </thead>\n",
       "  <tbody>\n",
       "    <tr>\n",
       "      <th>0</th>\n",
       "      <td>Afghanistan</td>\n",
       "      <td>2014</td>\n",
       "      <td>6.390000</td>\n",
       "      <td>NaN</td>\n",
       "    </tr>\n",
       "    <tr>\n",
       "      <th>1</th>\n",
       "      <td>Afghanistan</td>\n",
       "      <td>2013</td>\n",
       "      <td>5.900000</td>\n",
       "      <td>NaN</td>\n",
       "    </tr>\n",
       "    <tr>\n",
       "      <th>2</th>\n",
       "      <td>Afghanistan</td>\n",
       "      <td>2012</td>\n",
       "      <td>5.454545</td>\n",
       "      <td>NaN</td>\n",
       "    </tr>\n",
       "    <tr>\n",
       "      <th>3</th>\n",
       "      <td>Afghanistan</td>\n",
       "      <td>2011</td>\n",
       "      <td>5.000000</td>\n",
       "      <td>NaN</td>\n",
       "    </tr>\n",
       "    <tr>\n",
       "      <th>4</th>\n",
       "      <td>Afghanistan</td>\n",
       "      <td>2010</td>\n",
       "      <td>4.000000</td>\n",
       "      <td>NaN</td>\n",
       "    </tr>\n",
       "  </tbody>\n",
       "</table>\n",
       "</div>"
      ],
      "text/plain": [
       "  Country or Area  Year     Value  Value Footnotes\n",
       "0     Afghanistan  2014  6.390000              NaN\n",
       "1     Afghanistan  2013  5.900000              NaN\n",
       "2     Afghanistan  2012  5.454545              NaN\n",
       "3     Afghanistan  2011  5.000000              NaN\n",
       "4     Afghanistan  2010  4.000000              NaN"
      ]
     },
     "execution_count": 44,
     "metadata": {},
     "output_type": "execute_result"
    }
   ],
   "source": [
    "internet_df.head()"
   ]
  },
  {
   "cell_type": "code",
   "execution_count": 45,
   "id": "79d057d9-034b-4e45-997f-a4e3b3d1a327",
   "metadata": {
    "scrolled": true
   },
   "outputs": [
    {
     "data": {
      "text/html": [
       "<div>\n",
       "<style scoped>\n",
       "    .dataframe tbody tr th:only-of-type {\n",
       "        vertical-align: middle;\n",
       "    }\n",
       "\n",
       "    .dataframe tbody tr th {\n",
       "        vertical-align: top;\n",
       "    }\n",
       "\n",
       "    .dataframe thead th {\n",
       "        text-align: right;\n",
       "    }\n",
       "</style>\n",
       "<table border=\"1\" class=\"dataframe\">\n",
       "  <thead>\n",
       "    <tr style=\"text-align: right;\">\n",
       "      <th></th>\n",
       "      <th>Country or Area</th>\n",
       "      <th>Year</th>\n",
       "      <th>Value</th>\n",
       "      <th>Value Footnotes</th>\n",
       "    </tr>\n",
       "  </thead>\n",
       "  <tbody>\n",
       "    <tr>\n",
       "      <th>4490</th>\n",
       "      <td>Zimbabwe</td>\n",
       "      <td>1997</td>\n",
       "      <td>0.033080</td>\n",
       "      <td>NaN</td>\n",
       "    </tr>\n",
       "    <tr>\n",
       "      <th>4491</th>\n",
       "      <td>Zimbabwe</td>\n",
       "      <td>1996</td>\n",
       "      <td>0.016790</td>\n",
       "      <td>NaN</td>\n",
       "    </tr>\n",
       "    <tr>\n",
       "      <th>4492</th>\n",
       "      <td>Zimbabwe</td>\n",
       "      <td>1995</td>\n",
       "      <td>0.007684</td>\n",
       "      <td>NaN</td>\n",
       "    </tr>\n",
       "    <tr>\n",
       "      <th>4493</th>\n",
       "      <td>Zimbabwe</td>\n",
       "      <td>1994</td>\n",
       "      <td>0.001739</td>\n",
       "      <td>NaN</td>\n",
       "    </tr>\n",
       "    <tr>\n",
       "      <th>4494</th>\n",
       "      <td>Zimbabwe</td>\n",
       "      <td>1990</td>\n",
       "      <td>0.000000</td>\n",
       "      <td>NaN</td>\n",
       "    </tr>\n",
       "  </tbody>\n",
       "</table>\n",
       "</div>"
      ],
      "text/plain": [
       "     Country or Area  Year     Value  Value Footnotes\n",
       "4490        Zimbabwe  1997  0.033080              NaN\n",
       "4491        Zimbabwe  1996  0.016790              NaN\n",
       "4492        Zimbabwe  1995  0.007684              NaN\n",
       "4493        Zimbabwe  1994  0.001739              NaN\n",
       "4494        Zimbabwe  1990  0.000000              NaN"
      ]
     },
     "execution_count": 45,
     "metadata": {},
     "output_type": "execute_result"
    }
   ],
   "source": [
    "internet_df.tail()"
   ]
  },
  {
   "cell_type": "code",
   "execution_count": 46,
   "id": "055134a4-d41d-4407-be15-d4e83b925fe1",
   "metadata": {},
   "outputs": [
    {
     "data": {
      "text/plain": [
       "Country or Area     object\n",
       "Year                 int64\n",
       "Value              float64\n",
       "Value Footnotes    float64\n",
       "dtype: object"
      ]
     },
     "execution_count": 46,
     "metadata": {},
     "output_type": "execute_result"
    }
   ],
   "source": [
    "internet_df.dtypes"
   ]
  },
  {
   "cell_type": "code",
   "execution_count": 47,
   "id": "59432161-b2dd-49c0-95cc-96d7dcf8295f",
   "metadata": {},
   "outputs": [],
   "source": [
    "#Changing the data type of the Value column to float\n",
    "internet_df[\"Value\"] = internet_df[\"Value\"].astype(float)"
   ]
  },
  {
   "cell_type": "code",
   "execution_count": 48,
   "id": "a88aeb95-70a7-4ee2-8fc7-3f434d392549",
   "metadata": {},
   "outputs": [],
   "source": [
    "#Changing the Value column to show two decimal places\n",
    "pd.options.display.float_format = \"{:.2f}\".format"
   ]
  },
  {
   "cell_type": "code",
   "execution_count": 49,
   "id": "e05ccacb-00d0-4cd2-82ed-d094dbd08e2b",
   "metadata": {},
   "outputs": [],
   "source": [
    "#Changing the Year column data type from float to integer\n",
    "#internet_df[\"Year\"] = internet_df[\"Year\"].astype(int)"
   ]
  },
  {
   "cell_type": "code",
   "execution_count": 50,
   "id": "2104fd4e-738a-4acc-9032-cec183d8a42a",
   "metadata": {},
   "outputs": [
    {
     "data": {
      "text/html": [
       "<div>\n",
       "<style scoped>\n",
       "    .dataframe tbody tr th:only-of-type {\n",
       "        vertical-align: middle;\n",
       "    }\n",
       "\n",
       "    .dataframe tbody tr th {\n",
       "        vertical-align: top;\n",
       "    }\n",
       "\n",
       "    .dataframe thead th {\n",
       "        text-align: right;\n",
       "    }\n",
       "</style>\n",
       "<table border=\"1\" class=\"dataframe\">\n",
       "  <thead>\n",
       "    <tr style=\"text-align: right;\">\n",
       "      <th></th>\n",
       "      <th>Country or Area</th>\n",
       "      <th>Year</th>\n",
       "      <th>Value</th>\n",
       "      <th>Value Footnotes</th>\n",
       "    </tr>\n",
       "  </thead>\n",
       "  <tbody>\n",
       "    <tr>\n",
       "      <th>0</th>\n",
       "      <td>Afghanistan</td>\n",
       "      <td>2014</td>\n",
       "      <td>6.39</td>\n",
       "      <td>NaN</td>\n",
       "    </tr>\n",
       "    <tr>\n",
       "      <th>1</th>\n",
       "      <td>Afghanistan</td>\n",
       "      <td>2013</td>\n",
       "      <td>5.90</td>\n",
       "      <td>NaN</td>\n",
       "    </tr>\n",
       "    <tr>\n",
       "      <th>2</th>\n",
       "      <td>Afghanistan</td>\n",
       "      <td>2012</td>\n",
       "      <td>5.45</td>\n",
       "      <td>NaN</td>\n",
       "    </tr>\n",
       "    <tr>\n",
       "      <th>3</th>\n",
       "      <td>Afghanistan</td>\n",
       "      <td>2011</td>\n",
       "      <td>5.00</td>\n",
       "      <td>NaN</td>\n",
       "    </tr>\n",
       "    <tr>\n",
       "      <th>4</th>\n",
       "      <td>Afghanistan</td>\n",
       "      <td>2010</td>\n",
       "      <td>4.00</td>\n",
       "      <td>NaN</td>\n",
       "    </tr>\n",
       "  </tbody>\n",
       "</table>\n",
       "</div>"
      ],
      "text/plain": [
       "  Country or Area  Year  Value  Value Footnotes\n",
       "0     Afghanistan  2014   6.39              NaN\n",
       "1     Afghanistan  2013   5.90              NaN\n",
       "2     Afghanistan  2012   5.45              NaN\n",
       "3     Afghanistan  2011   5.00              NaN\n",
       "4     Afghanistan  2010   4.00              NaN"
      ]
     },
     "execution_count": 50,
     "metadata": {},
     "output_type": "execute_result"
    }
   ],
   "source": [
    "internet_df.head()"
   ]
  },
  {
   "cell_type": "markdown",
   "id": "759d127e-b324-439c-824b-afef79eeabdc",
   "metadata": {},
   "source": [
    "## Q15"
   ]
  },
  {
   "cell_type": "markdown",
   "id": "142952de-688b-46b1-a7a0-832a1737239f",
   "metadata": {},
   "source": [
    "15. Drop the `Value Footnotes` column and rename the remaining three to 'Country', 'Year', and 'Internet_Users_Pct'."
   ]
  },
  {
   "cell_type": "code",
   "execution_count": 51,
   "id": "91dfd58e-1e21-47b3-b34d-54b70b5975f5",
   "metadata": {},
   "outputs": [],
   "source": [
    "internet_df = internet_df.drop(\"Value Footnotes\", axis = \"columns\")"
   ]
  },
  {
   "cell_type": "code",
   "execution_count": 52,
   "id": "a041ee1c-f480-4b2c-a51e-4cf0ef20f5bb",
   "metadata": {},
   "outputs": [],
   "source": [
    "#Rennaming remaining columns:\n",
    "internet_df = internet_df.rename(columns = {'Country or Area':'Country', 'Year':'Year', 'Value':'Internet_Users_Pct'})"
   ]
  },
  {
   "cell_type": "code",
   "execution_count": 53,
   "id": "fc3102fb-fbe1-4b54-98fb-715428a2550d",
   "metadata": {},
   "outputs": [
    {
     "data": {
      "text/html": [
       "<div>\n",
       "<style scoped>\n",
       "    .dataframe tbody tr th:only-of-type {\n",
       "        vertical-align: middle;\n",
       "    }\n",
       "\n",
       "    .dataframe tbody tr th {\n",
       "        vertical-align: top;\n",
       "    }\n",
       "\n",
       "    .dataframe thead th {\n",
       "        text-align: right;\n",
       "    }\n",
       "</style>\n",
       "<table border=\"1\" class=\"dataframe\">\n",
       "  <thead>\n",
       "    <tr style=\"text-align: right;\">\n",
       "      <th></th>\n",
       "      <th>Country</th>\n",
       "      <th>Year</th>\n",
       "      <th>Internet_Users_Pct</th>\n",
       "    </tr>\n",
       "  </thead>\n",
       "  <tbody>\n",
       "    <tr>\n",
       "      <th>0</th>\n",
       "      <td>Afghanistan</td>\n",
       "      <td>2014</td>\n",
       "      <td>6.39</td>\n",
       "    </tr>\n",
       "    <tr>\n",
       "      <th>1</th>\n",
       "      <td>Afghanistan</td>\n",
       "      <td>2013</td>\n",
       "      <td>5.90</td>\n",
       "    </tr>\n",
       "    <tr>\n",
       "      <th>2</th>\n",
       "      <td>Afghanistan</td>\n",
       "      <td>2012</td>\n",
       "      <td>5.45</td>\n",
       "    </tr>\n",
       "    <tr>\n",
       "      <th>3</th>\n",
       "      <td>Afghanistan</td>\n",
       "      <td>2011</td>\n",
       "      <td>5.00</td>\n",
       "    </tr>\n",
       "    <tr>\n",
       "      <th>4</th>\n",
       "      <td>Afghanistan</td>\n",
       "      <td>2010</td>\n",
       "      <td>4.00</td>\n",
       "    </tr>\n",
       "  </tbody>\n",
       "</table>\n",
       "</div>"
      ],
      "text/plain": [
       "       Country  Year  Internet_Users_Pct\n",
       "0  Afghanistan  2014                6.39\n",
       "1  Afghanistan  2013                5.90\n",
       "2  Afghanistan  2012                5.45\n",
       "3  Afghanistan  2011                5.00\n",
       "4  Afghanistan  2010                4.00"
      ]
     },
     "execution_count": 53,
     "metadata": {},
     "output_type": "execute_result"
    }
   ],
   "source": [
    "internet_df.head()"
   ]
  },
  {
   "cell_type": "code",
   "execution_count": 54,
   "id": "a5449cc6-f1be-449f-9ddd-6d8ad7102709",
   "metadata": {},
   "outputs": [],
   "source": [
    "#Changing the Year column data type from float to integer\n",
    "#internet_df[\"Year\"] = internet_df[\"Year\"].astype(int)"
   ]
  },
  {
   "cell_type": "code",
   "execution_count": null,
   "id": "6381a506-bf1d-43d4-bbfe-67c9b697b8ca",
   "metadata": {},
   "outputs": [],
   "source": []
  },
  {
   "cell_type": "markdown",
   "id": "41ca1e72-b1e5-4652-a304-bc61e6ee98f4",
   "metadata": {},
   "source": [
    "## Q16"
   ]
  },
  {
   "cell_type": "markdown",
   "id": "28e3042e-4c5d-45a2-9b2c-c7c079ef27d0",
   "metadata": {},
   "source": [
    "16. Look at the number of observations in this dataset per year. What do you notice?\n"
   ]
  },
  {
   "cell_type": "code",
   "execution_count": 55,
   "id": "bce1d454-489f-4677-8c3f-5a59748159f2",
   "metadata": {},
   "outputs": [
    {
     "data": {
      "text/plain": [
       "(4495, 3)"
      ]
     },
     "execution_count": 55,
     "metadata": {},
     "output_type": "execute_result"
    }
   ],
   "source": [
    "internet_df.shape"
   ]
  },
  {
   "cell_type": "markdown",
   "id": "368f1e08-341c-470a-86bb-b2b06a3dc468",
   "metadata": {},
   "source": [
    "Answer: The first thing I notice is there are significantly less rows than the GDP_per_capita dataset. I also notice even with less rows, there are a significant amount of NaN values."
   ]
  },
  {
   "cell_type": "code",
   "execution_count": null,
   "id": "0d6cd50f-afff-45fb-8084-8c3ea990384a",
   "metadata": {},
   "outputs": [],
   "source": []
  },
  {
   "cell_type": "markdown",
   "id": "52cd600f-d410-4f46-ad23-379d0ae115e0",
   "metadata": {},
   "source": [
    "## **Q17"
   ]
  },
  {
   "cell_type": "markdown",
   "id": "a7cbcd98-364d-436f-ae3d-0fb7033fd10a",
   "metadata": {},
   "source": [
    "17. What is the first year to have a non-zero internet users percentage value?"
   ]
  },
  {
   "cell_type": "code",
   "execution_count": 56,
   "id": "2b2cb3dd-df70-4e52-bd2f-97dc0252970c",
   "metadata": {},
   "outputs": [],
   "source": [
    "greater_than_zero = internet_df[internet_df[\"Internet_Users_Pct\"] > 0]"
   ]
  },
  {
   "cell_type": "code",
   "execution_count": 57,
   "id": "92d08742-0dc6-4633-a24d-6f1ef5675f27",
   "metadata": {},
   "outputs": [
    {
     "data": {
      "text/html": [
       "<div>\n",
       "<style scoped>\n",
       "    .dataframe tbody tr th:only-of-type {\n",
       "        vertical-align: middle;\n",
       "    }\n",
       "\n",
       "    .dataframe tbody tr th {\n",
       "        vertical-align: top;\n",
       "    }\n",
       "\n",
       "    .dataframe thead th {\n",
       "        text-align: right;\n",
       "    }\n",
       "</style>\n",
       "<table border=\"1\" class=\"dataframe\">\n",
       "  <thead>\n",
       "    <tr style=\"text-align: right;\">\n",
       "      <th></th>\n",
       "      <th>Country</th>\n",
       "      <th>Year</th>\n",
       "      <th>Internet_Users_Pct</th>\n",
       "    </tr>\n",
       "  </thead>\n",
       "  <tbody>\n",
       "    <tr>\n",
       "      <th>0</th>\n",
       "      <td>Afghanistan</td>\n",
       "      <td>2014</td>\n",
       "      <td>6.39</td>\n",
       "    </tr>\n",
       "    <tr>\n",
       "      <th>1</th>\n",
       "      <td>Afghanistan</td>\n",
       "      <td>2013</td>\n",
       "      <td>5.90</td>\n",
       "    </tr>\n",
       "    <tr>\n",
       "      <th>2</th>\n",
       "      <td>Afghanistan</td>\n",
       "      <td>2012</td>\n",
       "      <td>5.45</td>\n",
       "    </tr>\n",
       "    <tr>\n",
       "      <th>3</th>\n",
       "      <td>Afghanistan</td>\n",
       "      <td>2011</td>\n",
       "      <td>5.00</td>\n",
       "    </tr>\n",
       "    <tr>\n",
       "      <th>4</th>\n",
       "      <td>Afghanistan</td>\n",
       "      <td>2010</td>\n",
       "      <td>4.00</td>\n",
       "    </tr>\n",
       "  </tbody>\n",
       "</table>\n",
       "</div>"
      ],
      "text/plain": [
       "       Country  Year  Internet_Users_Pct\n",
       "0  Afghanistan  2014                6.39\n",
       "1  Afghanistan  2013                5.90\n",
       "2  Afghanistan  2012                5.45\n",
       "3  Afghanistan  2011                5.00\n",
       "4  Afghanistan  2010                4.00"
      ]
     },
     "execution_count": 57,
     "metadata": {},
     "output_type": "execute_result"
    }
   ],
   "source": [
    "greater_than_zero.head()"
   ]
  },
  {
   "cell_type": "code",
   "execution_count": 58,
   "id": "e66d39c3-a576-4bdd-9a7f-bb7704fbafc2",
   "metadata": {},
   "outputs": [
    {
     "data": {
      "text/html": [
       "<div>\n",
       "<style scoped>\n",
       "    .dataframe tbody tr th:only-of-type {\n",
       "        vertical-align: middle;\n",
       "    }\n",
       "\n",
       "    .dataframe tbody tr th {\n",
       "        vertical-align: top;\n",
       "    }\n",
       "\n",
       "    .dataframe thead th {\n",
       "        text-align: right;\n",
       "    }\n",
       "</style>\n",
       "<table border=\"1\" class=\"dataframe\">\n",
       "  <thead>\n",
       "    <tr style=\"text-align: right;\">\n",
       "      <th></th>\n",
       "      <th>Country</th>\n",
       "      <th>Year</th>\n",
       "      <th>Internet_Users_Pct</th>\n",
       "    </tr>\n",
       "  </thead>\n",
       "  <tbody>\n",
       "    <tr>\n",
       "      <th>0</th>\n",
       "      <td>Afghanistan</td>\n",
       "      <td>2014</td>\n",
       "      <td>6.39</td>\n",
       "    </tr>\n",
       "    <tr>\n",
       "      <th>2049</th>\n",
       "      <td>Jamaica</td>\n",
       "      <td>2014</td>\n",
       "      <td>40.50</td>\n",
       "    </tr>\n",
       "    <tr>\n",
       "      <th>4095</th>\n",
       "      <td>Trinidad and Tobago</td>\n",
       "      <td>2014</td>\n",
       "      <td>65.10</td>\n",
       "    </tr>\n",
       "    <tr>\n",
       "      <th>1999</th>\n",
       "      <td>Israel</td>\n",
       "      <td>2014</td>\n",
       "      <td>71.45</td>\n",
       "    </tr>\n",
       "    <tr>\n",
       "      <th>1974</th>\n",
       "      <td>Ireland</td>\n",
       "      <td>2014</td>\n",
       "      <td>79.69</td>\n",
       "    </tr>\n",
       "    <tr>\n",
       "      <th>...</th>\n",
       "      <td>...</td>\n",
       "      <td>...</td>\n",
       "      <td>...</td>\n",
       "    </tr>\n",
       "    <tr>\n",
       "      <th>204</th>\n",
       "      <td>Australia</td>\n",
       "      <td>1990</td>\n",
       "      <td>0.59</td>\n",
       "    </tr>\n",
       "    <tr>\n",
       "      <th>4301</th>\n",
       "      <td>United States</td>\n",
       "      <td>1990</td>\n",
       "      <td>0.78</td>\n",
       "    </tr>\n",
       "    <tr>\n",
       "      <th>728</th>\n",
       "      <td>Canada</td>\n",
       "      <td>1990</td>\n",
       "      <td>0.36</td>\n",
       "    </tr>\n",
       "    <tr>\n",
       "      <th>375</th>\n",
       "      <td>Belgium</td>\n",
       "      <td>1990</td>\n",
       "      <td>0.00</td>\n",
       "    </tr>\n",
       "    <tr>\n",
       "      <th>3720</th>\n",
       "      <td>Spain</td>\n",
       "      <td>1990</td>\n",
       "      <td>0.01</td>\n",
       "    </tr>\n",
       "  </tbody>\n",
       "</table>\n",
       "<p>4106 rows × 3 columns</p>\n",
       "</div>"
      ],
      "text/plain": [
       "                  Country  Year  Internet_Users_Pct\n",
       "0             Afghanistan  2014                6.39\n",
       "2049              Jamaica  2014               40.50\n",
       "4095  Trinidad and Tobago  2014               65.10\n",
       "1999               Israel  2014               71.45\n",
       "1974              Ireland  2014               79.69\n",
       "...                   ...   ...                 ...\n",
       "204             Australia  1990                0.59\n",
       "4301        United States  1990                0.78\n",
       "728                Canada  1990                0.36\n",
       "375               Belgium  1990                0.00\n",
       "3720                Spain  1990                0.01\n",
       "\n",
       "[4106 rows x 3 columns]"
      ]
     },
     "execution_count": 58,
     "metadata": {},
     "output_type": "execute_result"
    }
   ],
   "source": [
    "#Attempting to see the first year with a greater than zero internet percentage\n",
    "greater_than_zero.sort_values(\"Year\", ascending = False)"
   ]
  },
  {
   "cell_type": "code",
   "execution_count": null,
   "id": "84342d47-39a8-4597-8388-7fd492a04fa1",
   "metadata": {},
   "outputs": [],
   "source": []
  },
  {
   "cell_type": "code",
   "execution_count": null,
   "id": "e7de5d5f-ed2e-44ef-84ad-28bd4aea8f35",
   "metadata": {},
   "outputs": [],
   "source": []
  },
  {
   "cell_type": "markdown",
   "id": "9276a304-409b-4640-aed2-6247ab40bf49",
   "metadata": {},
   "source": [
    "## Q18"
   ]
  },
  {
   "cell_type": "markdown",
   "id": "1a7a0cb8-a1a0-4e57-973e-310919ff2fcb",
   "metadata": {},
   "source": [
    "18. How does the distribution of internet users percent differ for 2000 and 2014?"
   ]
  },
  {
   "cell_type": "code",
   "execution_count": 59,
   "id": "da680008-40c1-4323-92e4-a2a4c48034c9",
   "metadata": {},
   "outputs": [],
   "source": [
    "internet_0014 = internet_df[(internet_df[\"Year\"] == 2000) | (internet_df[\"Year\"] == 2014)]"
   ]
  },
  {
   "cell_type": "code",
   "execution_count": 60,
   "id": "0047292e-1bc1-4438-b9c4-42ba2b477310",
   "metadata": {},
   "outputs": [
    {
     "data": {
      "text/html": [
       "<div>\n",
       "<style scoped>\n",
       "    .dataframe tbody tr th:only-of-type {\n",
       "        vertical-align: middle;\n",
       "    }\n",
       "\n",
       "    .dataframe tbody tr th {\n",
       "        vertical-align: top;\n",
       "    }\n",
       "\n",
       "    .dataframe thead th {\n",
       "        text-align: right;\n",
       "    }\n",
       "</style>\n",
       "<table border=\"1\" class=\"dataframe\">\n",
       "  <thead>\n",
       "    <tr style=\"text-align: right;\">\n",
       "      <th></th>\n",
       "      <th>Country</th>\n",
       "      <th>Year</th>\n",
       "      <th>Internet_Users_Pct</th>\n",
       "    </tr>\n",
       "  </thead>\n",
       "  <tbody>\n",
       "    <tr>\n",
       "      <th>0</th>\n",
       "      <td>Afghanistan</td>\n",
       "      <td>2014</td>\n",
       "      <td>6.39</td>\n",
       "    </tr>\n",
       "    <tr>\n",
       "      <th>15</th>\n",
       "      <td>Albania</td>\n",
       "      <td>2014</td>\n",
       "      <td>60.10</td>\n",
       "    </tr>\n",
       "    <tr>\n",
       "      <th>29</th>\n",
       "      <td>Albania</td>\n",
       "      <td>2000</td>\n",
       "      <td>0.11</td>\n",
       "    </tr>\n",
       "    <tr>\n",
       "      <th>36</th>\n",
       "      <td>Algeria</td>\n",
       "      <td>2014</td>\n",
       "      <td>18.09</td>\n",
       "    </tr>\n",
       "    <tr>\n",
       "      <th>50</th>\n",
       "      <td>Algeria</td>\n",
       "      <td>2000</td>\n",
       "      <td>0.49</td>\n",
       "    </tr>\n",
       "  </tbody>\n",
       "</table>\n",
       "</div>"
      ],
      "text/plain": [
       "        Country  Year  Internet_Users_Pct\n",
       "0   Afghanistan  2014                6.39\n",
       "15      Albania  2014               60.10\n",
       "29      Albania  2000                0.11\n",
       "36      Algeria  2014               18.09\n",
       "50      Algeria  2000                0.49"
      ]
     },
     "execution_count": 60,
     "metadata": {},
     "output_type": "execute_result"
    }
   ],
   "source": [
    "internet_0014.head()"
   ]
  },
  {
   "cell_type": "markdown",
   "id": "4f0f68cb-d54b-4928-adcf-3dcda22fa857",
   "metadata": {},
   "source": [
    "Answer: There is a huge increase in internet usage in 2014 compared to 2000."
   ]
  },
  {
   "cell_type": "markdown",
   "id": "89bff78a-a0c7-4384-8510-103ea7233ee5",
   "metadata": {},
   "source": [
    "## Q19"
   ]
  },
  {
   "cell_type": "markdown",
   "id": "0b96a393-5039-4863-88da-8ae051690696",
   "metadata": {},
   "source": [
    "19. For how many countries was the percentage of internet users below 5% in 2014?\n"
   ]
  },
  {
   "cell_type": "code",
   "execution_count": 61,
   "id": "a57112a8-645a-459d-bf79-382f1fbda1d5",
   "metadata": {},
   "outputs": [
    {
     "data": {
      "text/html": [
       "<div>\n",
       "<style scoped>\n",
       "    .dataframe tbody tr th:only-of-type {\n",
       "        vertical-align: middle;\n",
       "    }\n",
       "\n",
       "    .dataframe tbody tr th {\n",
       "        vertical-align: top;\n",
       "    }\n",
       "\n",
       "    .dataframe thead th {\n",
       "        text-align: right;\n",
       "    }\n",
       "</style>\n",
       "<table border=\"1\" class=\"dataframe\">\n",
       "  <thead>\n",
       "    <tr style=\"text-align: right;\">\n",
       "      <th></th>\n",
       "      <th>Country</th>\n",
       "      <th>Year</th>\n",
       "      <th>Internet_Users_Pct</th>\n",
       "    </tr>\n",
       "  </thead>\n",
       "  <tbody>\n",
       "    <tr>\n",
       "      <th>680</th>\n",
       "      <td>Cambodia</td>\n",
       "      <td>2000</td>\n",
       "      <td>0.05</td>\n",
       "    </tr>\n",
       "    <tr>\n",
       "      <th>796</th>\n",
       "      <td>Chad</td>\n",
       "      <td>2000</td>\n",
       "      <td>0.04</td>\n",
       "    </tr>\n",
       "    <tr>\n",
       "      <th>903</th>\n",
       "      <td>Congo</td>\n",
       "      <td>2000</td>\n",
       "      <td>0.03</td>\n",
       "    </tr>\n",
       "    <tr>\n",
       "      <th>923</th>\n",
       "      <td>Congo (Democratic Republic of the)</td>\n",
       "      <td>2000</td>\n",
       "      <td>0.01</td>\n",
       "    </tr>\n",
       "    <tr>\n",
       "      <th>1065</th>\n",
       "      <td>Dem. People's Rep. of Korea</td>\n",
       "      <td>2014</td>\n",
       "      <td>0.00</td>\n",
       "    </tr>\n",
       "    <tr>\n",
       "      <th>1078</th>\n",
       "      <td>Dem. People's Rep. of Korea</td>\n",
       "      <td>2000</td>\n",
       "      <td>0.00</td>\n",
       "    </tr>\n",
       "    <tr>\n",
       "      <th>1313</th>\n",
       "      <td>Ethiopia</td>\n",
       "      <td>2000</td>\n",
       "      <td>0.02</td>\n",
       "    </tr>\n",
       "    <tr>\n",
       "      <th>2350</th>\n",
       "      <td>Liberia</td>\n",
       "      <td>2000</td>\n",
       "      <td>0.02</td>\n",
       "    </tr>\n",
       "    <tr>\n",
       "      <th>2989</th>\n",
       "      <td>Niger</td>\n",
       "      <td>2000</td>\n",
       "      <td>0.04</td>\n",
       "    </tr>\n",
       "    <tr>\n",
       "      <th>3661</th>\n",
       "      <td>Somalia</td>\n",
       "      <td>2000</td>\n",
       "      <td>0.02</td>\n",
       "    </tr>\n",
       "    <tr>\n",
       "      <th>3775</th>\n",
       "      <td>Sudan</td>\n",
       "      <td>2000</td>\n",
       "      <td>0.03</td>\n",
       "    </tr>\n",
       "    <tr>\n",
       "      <th>3953</th>\n",
       "      <td>Tajikistan</td>\n",
       "      <td>2000</td>\n",
       "      <td>0.05</td>\n",
       "    </tr>\n",
       "  </tbody>\n",
       "</table>\n",
       "</div>"
      ],
      "text/plain": [
       "                                 Country  Year  Internet_Users_Pct\n",
       "680                             Cambodia  2000                0.05\n",
       "796                                 Chad  2000                0.04\n",
       "903                                Congo  2000                0.03\n",
       "923   Congo (Democratic Republic of the)  2000                0.01\n",
       "1065         Dem. People's Rep. of Korea  2014                0.00\n",
       "1078         Dem. People's Rep. of Korea  2000                0.00\n",
       "1313                            Ethiopia  2000                0.02\n",
       "2350                             Liberia  2000                0.02\n",
       "2989                               Niger  2000                0.04\n",
       "3661                             Somalia  2000                0.02\n",
       "3775                               Sudan  2000                0.03\n",
       "3953                          Tajikistan  2000                0.05"
      ]
     },
     "execution_count": 61,
     "metadata": {},
     "output_type": "execute_result"
    }
   ],
   "source": [
    "internet_0014[internet_0014[\"Internet_Users_Pct\"] < .05]"
   ]
  },
  {
   "cell_type": "markdown",
   "id": "e213cfd8-5bb6-4c70-ab70-56034959aa43",
   "metadata": {},
   "source": [
    "Answer: One country had less than 5% internet usage in 2014- DPR of Korea (North Korea)"
   ]
  },
  {
   "cell_type": "code",
   "execution_count": null,
   "id": "632c7c33-10f1-41d6-a7cd-fb1fe83a4477",
   "metadata": {},
   "outputs": [],
   "source": []
  },
  {
   "cell_type": "markdown",
   "id": "61d44939-f970-4a18-9175-326ad5c3ba96",
   "metadata": {},
   "source": [
    "## Q20"
   ]
  },
  {
   "cell_type": "markdown",
   "id": "f9bca149-adf5-48da-a358-d0e03b60c214",
   "metadata": {},
   "source": [
    "20. Merge the two DataFrames to one. Do this in a way that keeps **all rows** from each of the two DataFrames. Call the new DataFrame `gdp_and_internet_use`. Look at the first and last few rows to confirm that it merged correctly."
   ]
  },
  {
   "cell_type": "code",
   "execution_count": 67,
   "id": "5bd5c2c0-7190-4ab0-9dd6-98f12e572487",
   "metadata": {},
   "outputs": [],
   "source": [
    "#Merging the gdp and internet users dataframes into one.\n",
    "gdp_and_internet_use = pd.merge(gdp_df, internet_df, on='Country', how='inner')"
   ]
  },
  {
   "cell_type": "code",
   "execution_count": 70,
   "id": "c802b3be-28fc-4745-8b2b-8d1a9ca91911",
   "metadata": {},
   "outputs": [],
   "source": [
    "#An attempt to merge the two dataframes that resulted in issues with later questions due to multiple columns having the same names\n",
    "#gdp_and_internet_use = pd.concat([gdp_df, internet_df], axis =1, join =\"inner\")"
   ]
  },
  {
   "cell_type": "code",
   "execution_count": 72,
   "id": "496b3ec6-4e5e-4ed4-a29e-2e282e592827",
   "metadata": {},
   "outputs": [
    {
     "data": {
      "text/html": [
       "<div>\n",
       "<style scoped>\n",
       "    .dataframe tbody tr th:only-of-type {\n",
       "        vertical-align: middle;\n",
       "    }\n",
       "\n",
       "    .dataframe tbody tr th {\n",
       "        vertical-align: top;\n",
       "    }\n",
       "\n",
       "    .dataframe thead th {\n",
       "        text-align: right;\n",
       "    }\n",
       "</style>\n",
       "<table border=\"1\" class=\"dataframe\">\n",
       "  <thead>\n",
       "    <tr style=\"text-align: right;\">\n",
       "      <th></th>\n",
       "      <th>Country</th>\n",
       "      <th>Year_x</th>\n",
       "      <th>GDP_Per_Capita</th>\n",
       "      <th>Year_y</th>\n",
       "      <th>Internet_Users_Pct</th>\n",
       "    </tr>\n",
       "  </thead>\n",
       "  <tbody>\n",
       "    <tr>\n",
       "      <th>0</th>\n",
       "      <td>Afghanistan</td>\n",
       "      <td>2021</td>\n",
       "      <td>1517.02</td>\n",
       "      <td>2014</td>\n",
       "      <td>6.39</td>\n",
       "    </tr>\n",
       "    <tr>\n",
       "      <th>1</th>\n",
       "      <td>Afghanistan</td>\n",
       "      <td>2021</td>\n",
       "      <td>1517.02</td>\n",
       "      <td>2013</td>\n",
       "      <td>5.90</td>\n",
       "    </tr>\n",
       "    <tr>\n",
       "      <th>2</th>\n",
       "      <td>Afghanistan</td>\n",
       "      <td>2021</td>\n",
       "      <td>1517.02</td>\n",
       "      <td>2012</td>\n",
       "      <td>5.45</td>\n",
       "    </tr>\n",
       "    <tr>\n",
       "      <th>3</th>\n",
       "      <td>Afghanistan</td>\n",
       "      <td>2021</td>\n",
       "      <td>1517.02</td>\n",
       "      <td>2011</td>\n",
       "      <td>5.00</td>\n",
       "    </tr>\n",
       "    <tr>\n",
       "      <th>4</th>\n",
       "      <td>Afghanistan</td>\n",
       "      <td>2021</td>\n",
       "      <td>1517.02</td>\n",
       "      <td>2010</td>\n",
       "      <td>4.00</td>\n",
       "    </tr>\n",
       "    <tr>\n",
       "      <th>5</th>\n",
       "      <td>Afghanistan</td>\n",
       "      <td>2021</td>\n",
       "      <td>1517.02</td>\n",
       "      <td>2009</td>\n",
       "      <td>3.55</td>\n",
       "    </tr>\n",
       "    <tr>\n",
       "      <th>6</th>\n",
       "      <td>Afghanistan</td>\n",
       "      <td>2021</td>\n",
       "      <td>1517.02</td>\n",
       "      <td>2008</td>\n",
       "      <td>1.84</td>\n",
       "    </tr>\n",
       "    <tr>\n",
       "      <th>7</th>\n",
       "      <td>Afghanistan</td>\n",
       "      <td>2021</td>\n",
       "      <td>1517.02</td>\n",
       "      <td>2007</td>\n",
       "      <td>1.90</td>\n",
       "    </tr>\n",
       "    <tr>\n",
       "      <th>8</th>\n",
       "      <td>Afghanistan</td>\n",
       "      <td>2021</td>\n",
       "      <td>1517.02</td>\n",
       "      <td>2006</td>\n",
       "      <td>2.11</td>\n",
       "    </tr>\n",
       "    <tr>\n",
       "      <th>9</th>\n",
       "      <td>Afghanistan</td>\n",
       "      <td>2021</td>\n",
       "      <td>1517.02</td>\n",
       "      <td>2005</td>\n",
       "      <td>1.22</td>\n",
       "    </tr>\n",
       "    <tr>\n",
       "      <th>10</th>\n",
       "      <td>Afghanistan</td>\n",
       "      <td>2021</td>\n",
       "      <td>1517.02</td>\n",
       "      <td>2004</td>\n",
       "      <td>0.11</td>\n",
       "    </tr>\n",
       "    <tr>\n",
       "      <th>11</th>\n",
       "      <td>Afghanistan</td>\n",
       "      <td>2021</td>\n",
       "      <td>1517.02</td>\n",
       "      <td>2003</td>\n",
       "      <td>0.09</td>\n",
       "    </tr>\n",
       "    <tr>\n",
       "      <th>12</th>\n",
       "      <td>Afghanistan</td>\n",
       "      <td>2021</td>\n",
       "      <td>1517.02</td>\n",
       "      <td>2002</td>\n",
       "      <td>0.00</td>\n",
       "    </tr>\n",
       "    <tr>\n",
       "      <th>13</th>\n",
       "      <td>Afghanistan</td>\n",
       "      <td>2021</td>\n",
       "      <td>1517.02</td>\n",
       "      <td>2001</td>\n",
       "      <td>0.00</td>\n",
       "    </tr>\n",
       "    <tr>\n",
       "      <th>14</th>\n",
       "      <td>Afghanistan</td>\n",
       "      <td>2021</td>\n",
       "      <td>1517.02</td>\n",
       "      <td>1990</td>\n",
       "      <td>0.00</td>\n",
       "    </tr>\n",
       "    <tr>\n",
       "      <th>15</th>\n",
       "      <td>Afghanistan</td>\n",
       "      <td>2020</td>\n",
       "      <td>1968.34</td>\n",
       "      <td>2014</td>\n",
       "      <td>6.39</td>\n",
       "    </tr>\n",
       "    <tr>\n",
       "      <th>16</th>\n",
       "      <td>Afghanistan</td>\n",
       "      <td>2020</td>\n",
       "      <td>1968.34</td>\n",
       "      <td>2013</td>\n",
       "      <td>5.90</td>\n",
       "    </tr>\n",
       "    <tr>\n",
       "      <th>17</th>\n",
       "      <td>Afghanistan</td>\n",
       "      <td>2020</td>\n",
       "      <td>1968.34</td>\n",
       "      <td>2012</td>\n",
       "      <td>5.45</td>\n",
       "    </tr>\n",
       "    <tr>\n",
       "      <th>18</th>\n",
       "      <td>Afghanistan</td>\n",
       "      <td>2020</td>\n",
       "      <td>1968.34</td>\n",
       "      <td>2011</td>\n",
       "      <td>5.00</td>\n",
       "    </tr>\n",
       "    <tr>\n",
       "      <th>19</th>\n",
       "      <td>Afghanistan</td>\n",
       "      <td>2020</td>\n",
       "      <td>1968.34</td>\n",
       "      <td>2010</td>\n",
       "      <td>4.00</td>\n",
       "    </tr>\n",
       "  </tbody>\n",
       "</table>\n",
       "</div>"
      ],
      "text/plain": [
       "        Country  Year_x  GDP_Per_Capita  Year_y  Internet_Users_Pct\n",
       "0   Afghanistan    2021         1517.02    2014                6.39\n",
       "1   Afghanistan    2021         1517.02    2013                5.90\n",
       "2   Afghanistan    2021         1517.02    2012                5.45\n",
       "3   Afghanistan    2021         1517.02    2011                5.00\n",
       "4   Afghanistan    2021         1517.02    2010                4.00\n",
       "5   Afghanistan    2021         1517.02    2009                3.55\n",
       "6   Afghanistan    2021         1517.02    2008                1.84\n",
       "7   Afghanistan    2021         1517.02    2007                1.90\n",
       "8   Afghanistan    2021         1517.02    2006                2.11\n",
       "9   Afghanistan    2021         1517.02    2005                1.22\n",
       "10  Afghanistan    2021         1517.02    2004                0.11\n",
       "11  Afghanistan    2021         1517.02    2003                0.09\n",
       "12  Afghanistan    2021         1517.02    2002                0.00\n",
       "13  Afghanistan    2021         1517.02    2001                0.00\n",
       "14  Afghanistan    2021         1517.02    1990                0.00\n",
       "15  Afghanistan    2020         1968.34    2014                6.39\n",
       "16  Afghanistan    2020         1968.34    2013                5.90\n",
       "17  Afghanistan    2020         1968.34    2012                5.45\n",
       "18  Afghanistan    2020         1968.34    2011                5.00\n",
       "19  Afghanistan    2020         1968.34    2010                4.00"
      ]
     },
     "execution_count": 72,
     "metadata": {},
     "output_type": "execute_result"
    }
   ],
   "source": [
    "gdp_and_internet_use.head(20)"
   ]
  },
  {
   "cell_type": "code",
   "execution_count": 69,
   "id": "6d19688a-180e-4b8e-bc2e-6c82c1b25214",
   "metadata": {},
   "outputs": [
    {
     "data": {
      "text/html": [
       "<div>\n",
       "<style scoped>\n",
       "    .dataframe tbody tr th:only-of-type {\n",
       "        vertical-align: middle;\n",
       "    }\n",
       "\n",
       "    .dataframe tbody tr th {\n",
       "        vertical-align: top;\n",
       "    }\n",
       "\n",
       "    .dataframe thead th {\n",
       "        text-align: right;\n",
       "    }\n",
       "</style>\n",
       "<table border=\"1\" class=\"dataframe\">\n",
       "  <thead>\n",
       "    <tr style=\"text-align: right;\">\n",
       "      <th></th>\n",
       "      <th>Country</th>\n",
       "      <th>Year_x</th>\n",
       "      <th>GDP_Per_Capita</th>\n",
       "      <th>Year_y</th>\n",
       "      <th>Internet_Users_Pct</th>\n",
       "    </tr>\n",
       "  </thead>\n",
       "  <tbody>\n",
       "    <tr>\n",
       "      <th>115789</th>\n",
       "      <td>Zimbabwe</td>\n",
       "      <td>1990</td>\n",
       "      <td>2704.76</td>\n",
       "      <td>1997</td>\n",
       "      <td>0.03</td>\n",
       "    </tr>\n",
       "    <tr>\n",
       "      <th>115790</th>\n",
       "      <td>Zimbabwe</td>\n",
       "      <td>1990</td>\n",
       "      <td>2704.76</td>\n",
       "      <td>1996</td>\n",
       "      <td>0.02</td>\n",
       "    </tr>\n",
       "    <tr>\n",
       "      <th>115791</th>\n",
       "      <td>Zimbabwe</td>\n",
       "      <td>1990</td>\n",
       "      <td>2704.76</td>\n",
       "      <td>1995</td>\n",
       "      <td>0.01</td>\n",
       "    </tr>\n",
       "    <tr>\n",
       "      <th>115792</th>\n",
       "      <td>Zimbabwe</td>\n",
       "      <td>1990</td>\n",
       "      <td>2704.76</td>\n",
       "      <td>1994</td>\n",
       "      <td>0.00</td>\n",
       "    </tr>\n",
       "    <tr>\n",
       "      <th>115793</th>\n",
       "      <td>Zimbabwe</td>\n",
       "      <td>1990</td>\n",
       "      <td>2704.76</td>\n",
       "      <td>1990</td>\n",
       "      <td>0.00</td>\n",
       "    </tr>\n",
       "  </tbody>\n",
       "</table>\n",
       "</div>"
      ],
      "text/plain": [
       "         Country  Year_x  GDP_Per_Capita  Year_y  Internet_Users_Pct\n",
       "115789  Zimbabwe    1990         2704.76    1997                0.03\n",
       "115790  Zimbabwe    1990         2704.76    1996                0.02\n",
       "115791  Zimbabwe    1990         2704.76    1995                0.01\n",
       "115792  Zimbabwe    1990         2704.76    1994                0.00\n",
       "115793  Zimbabwe    1990         2704.76    1990                0.00"
      ]
     },
     "execution_count": 69,
     "metadata": {},
     "output_type": "execute_result"
    }
   ],
   "source": [
    "gdp_and_internet_use.tail()"
   ]
  },
  {
   "cell_type": "code",
   "execution_count": null,
   "id": "e00ee1d8-7758-42bd-8cb7-3a8d4b42cd09",
   "metadata": {},
   "outputs": [],
   "source": []
  },
  {
   "cell_type": "markdown",
   "id": "9e462e05-7a7d-44c2-b982-3a5c3405afbc",
   "metadata": {},
   "source": [
    "## **Q21"
   ]
  },
  {
   "cell_type": "markdown",
   "id": "1a744a17-c689-4502-8e4b-1e0241461235",
   "metadata": {},
   "source": [
    "21. Find the three countries with the highest internet users percentage in 2014. Use a seaborn FacetGrid (https://seaborn.pydata.org/generated/seaborn.FacetGrid.html) to compare how the GDP per capita has changed over time for these three countries. What do you notice?\r\n"
   ]
  },
  {
   "cell_type": "code",
   "execution_count": null,
   "id": "91453ae8-4404-43a7-85c7-27b1f82b08b5",
   "metadata": {},
   "outputs": [],
   "source": [
    "#subsetting the year column to just 2014\n",
    "internet_14 = internet_df[(internet_df[\"Year\"] == 2014)]"
   ]
  },
  {
   "cell_type": "code",
   "execution_count": null,
   "id": "0112575f-ece8-4b26-9d29-7acab4c85d3d",
   "metadata": {},
   "outputs": [],
   "source": [
    "internet_14.sort_values(\"Internet_Users_Pct\", ascending = False)"
   ]
  },
  {
   "cell_type": "markdown",
   "id": "a59f9786-b139-4373-b86a-4a832a38ea7a",
   "metadata": {},
   "source": [
    "Answer: The 3 countries with the highest internet usage in 2014 are Iceland, Bermuda, and Norway."
   ]
  },
  {
   "cell_type": "code",
   "execution_count": null,
   "id": "061fb3cd-03b1-4893-aee3-9f3f2407dbf0",
   "metadata": {},
   "outputs": [],
   "source": [
    "#Showing the gdp over time for the highest internet usages countries from 2014\n",
    "high_three = gdp_df.loc[(gdp_df[\"Country\"] == \"Iceland\") | (gdp_df[\"Country\"] == \"Bermuda\") | (gdp_df[\"Country\"] == \"Norway\")]"
   ]
  },
  {
   "cell_type": "code",
   "execution_count": null,
   "id": "c73cd247-b62b-4cff-bc5d-cbd92691b0d4",
   "metadata": {},
   "outputs": [],
   "source": [
    "high_three.head()"
   ]
  },
  {
   "cell_type": "code",
   "execution_count": null,
   "id": "90486fef-2ea7-40d2-9a23-a15743a38546",
   "metadata": {},
   "outputs": [],
   "source": [
    "#Attempting to graph the GDP per capita for Iceland, Bermuda, and Norway\n",
    "#graph = seaborn.FacetGrid(high_three, col =\"Year\",  row =\"GDP_Per_Capita\") \n",
    "#graph.map(sns.histplot, \"Country\", edgecolor =\"w\").add_legend() "
   ]
  },
  {
   "cell_type": "markdown",
   "id": "699f365b-bbc3-4494-98d0-58189b6b933a",
   "metadata": {},
   "source": [
    "## Q22"
   ]
  },
  {
   "cell_type": "markdown",
   "id": "49c6eb9c-7e2f-4043-8a6c-f36880c10940",
   "metadata": {},
   "source": [
    "22. Subset `gdp_and_internet_use` to just the year 2014. Save this as a new dataframe named `gdp_and_internet_use_2014`."
   ]
  },
  {
   "cell_type": "code",
   "execution_count": 82,
   "id": "f394242e-7615-448c-8050-b5128597c593",
   "metadata": {},
   "outputs": [],
   "source": [
    "gdp_and_internet_use_2014 = gdp_and_internet_use[(gdp_and_internet_use[\"Year_x\"] == 2014) & (gdp_and_internet_use[\"Year_y\"] == 2014)]"
   ]
  },
  {
   "cell_type": "code",
   "execution_count": 83,
   "id": "9351fc81-d42b-4287-9089-6e599f2f6fd7",
   "metadata": {},
   "outputs": [
    {
     "data": {
      "text/html": [
       "<div>\n",
       "<style scoped>\n",
       "    .dataframe tbody tr th:only-of-type {\n",
       "        vertical-align: middle;\n",
       "    }\n",
       "\n",
       "    .dataframe tbody tr th {\n",
       "        vertical-align: top;\n",
       "    }\n",
       "\n",
       "    .dataframe thead th {\n",
       "        text-align: right;\n",
       "    }\n",
       "</style>\n",
       "<table border=\"1\" class=\"dataframe\">\n",
       "  <thead>\n",
       "    <tr style=\"text-align: right;\">\n",
       "      <th></th>\n",
       "      <th>Country</th>\n",
       "      <th>Year_x</th>\n",
       "      <th>GDP_Per_Capita</th>\n",
       "      <th>Year_y</th>\n",
       "      <th>Internet_Users_Pct</th>\n",
       "    </tr>\n",
       "  </thead>\n",
       "  <tbody>\n",
       "    <tr>\n",
       "      <th>105</th>\n",
       "      <td>Afghanistan</td>\n",
       "      <td>2014</td>\n",
       "      <td>2144.45</td>\n",
       "      <td>2014</td>\n",
       "      <td>6.39</td>\n",
       "    </tr>\n",
       "    <tr>\n",
       "      <th>468</th>\n",
       "      <td>Albania</td>\n",
       "      <td>2014</td>\n",
       "      <td>11586.82</td>\n",
       "      <td>2014</td>\n",
       "      <td>60.10</td>\n",
       "    </tr>\n",
       "    <tr>\n",
       "      <th>1169</th>\n",
       "      <td>Algeria</td>\n",
       "      <td>2014</td>\n",
       "      <td>11561.26</td>\n",
       "      <td>2014</td>\n",
       "      <td>18.09</td>\n",
       "    </tr>\n",
       "    <tr>\n",
       "      <th>1879</th>\n",
       "      <td>Angola</td>\n",
       "      <td>2014</td>\n",
       "      <td>8183.16</td>\n",
       "      <td>2014</td>\n",
       "      <td>21.26</td>\n",
       "    </tr>\n",
       "    <tr>\n",
       "      <th>2547</th>\n",
       "      <td>Antigua and Barbuda</td>\n",
       "      <td>2014</td>\n",
       "      <td>18779.14</td>\n",
       "      <td>2014</td>\n",
       "      <td>64.00</td>\n",
       "    </tr>\n",
       "  </tbody>\n",
       "</table>\n",
       "</div>"
      ],
      "text/plain": [
       "                  Country  Year_x  GDP_Per_Capita  Year_y  Internet_Users_Pct\n",
       "105           Afghanistan    2014         2144.45    2014                6.39\n",
       "468               Albania    2014        11586.82    2014               60.10\n",
       "1169              Algeria    2014        11561.26    2014               18.09\n",
       "1879               Angola    2014         8183.16    2014               21.26\n",
       "2547  Antigua and Barbuda    2014        18779.14    2014               64.00"
      ]
     },
     "execution_count": 83,
     "metadata": {},
     "output_type": "execute_result"
    }
   ],
   "source": [
    "gdp_and_internet_use_2014.head()"
   ]
  },
  {
   "cell_type": "markdown",
   "id": "a4f55fa9-7816-4206-8ab0-e4bb191edf28",
   "metadata": {},
   "source": [
    "## **Q23"
   ]
  },
  {
   "cell_type": "markdown",
   "id": "2c7425ae-3441-4994-9796-70c4b42c3fa6",
   "metadata": {},
   "source": [
    "23. Create a plot which compares Internet Users Percentage and GDP per Capita for the year 2014. What do you notice from this plot? If you see any unusual points, investigate them."
   ]
  },
  {
   "cell_type": "code",
   "execution_count": 98,
   "id": "be9bab3c-ce6b-4e5a-812e-79fa36c5af58",
   "metadata": {},
   "outputs": [
    {
     "data": {
      "text/plain": [
       "<Axes: xlabel='GDP_Per_Capita', ylabel='Internet_Users_Pct'>"
      ]
     },
     "execution_count": 98,
     "metadata": {},
     "output_type": "execute_result"
    },
    {
     "data": {
      "image/png": "[encoded data removed]",
      "text/plain": [
       "<Figure size 640x480 with 1 Axes>"
      ]
     },
     "metadata": {},
     "output_type": "display_data"
    }
   ],
   "source": [
    "#Barplot\n",
    "sns.barplot(\n",
    "    x=\"GDP_Per_Capita\", \n",
    "    y=\"Internet_Users_Pct\",\n",
    "    data=gdp_and_internet_use_2014\n",
    "    )"
   ]
  },
  {
   "cell_type": "markdown",
   "id": "69208227-ae47-480b-8849-16b545c5941b",
   "metadata": {},
   "source": [
    "I notice in the above plot that the higher the GDP per capita in 2014, the higher the internet usage for each country. \n",
    "#I want to investigate that first taller yellowish-green colored bar but I don't know how."
   ]
  },
  {
   "cell_type": "code",
   "execution_count": null,
   "id": "10f2f1af-910c-48d9-8b9c-65cdd9c18e72",
   "metadata": {},
   "outputs": [],
   "source": []
  },
  {
   "cell_type": "markdown",
   "id": "b8ee3bd2-0766-4e80-846c-c2ae933a2df9",
   "metadata": {},
   "source": [
    "## Q24"
   ]
  },
  {
   "cell_type": "markdown",
   "id": "2b6c1947-3678-4bf6-b8f0-e48a34a09a9a",
   "metadata": {},
   "source": [
    "24. **Stretch Question:** Use the `qcut` function from pandas (https://pandas.pydata.org/docs/reference/api/pandas.qcut.html) to divide countries in `gdp_per_capita_2014` into three groups based on their GDP per capita values. Label these groups as \"Low\", \"Medium\", and \"High\". Put these labels in a new column, named \"GDP_group\".\n"
   ]
  },
  {
   "cell_type": "code",
   "execution_count": null,
   "id": "d80c2399-adf7-4991-9207-228fac707d17",
   "metadata": {},
   "outputs": [],
   "source": []
  },
  {
   "cell_type": "code",
   "execution_count": null,
   "id": "3c80ac36-edac-469d-9537-75d0a238cbf7",
   "metadata": {},
   "outputs": [],
   "source": []
  },
  {
   "cell_type": "markdown",
   "id": "631bce7e-0f39-4f39-bc62-ad3ae32bb227",
   "metadata": {},
   "source": [
    "## Q25"
   ]
  },
  {
   "cell_type": "markdown",
   "id": "f5d8e906-26f6-43e7-a8e5-e8b0affd602f",
   "metadata": {},
   "source": [
    "25. **Stretch Question:** How does the median internet users percentage compare for the three gdp groups?\n"
   ]
  },
  {
   "cell_type": "code",
   "execution_count": null,
   "id": "0878f256-dec0-47a5-b2f9-47fe8daf8873",
   "metadata": {},
   "outputs": [],
   "source": []
  },
  {
   "cell_type": "code",
   "execution_count": null,
   "id": "e11e55c6-5527-4856-ab0c-1fb8fe72c783",
   "metadata": {},
   "outputs": [],
   "source": []
  },
  {
   "cell_type": "markdown",
   "id": "d572dce5-5d71-42fb-acfb-b192397a6d7f",
   "metadata": {},
   "source": [
    "## Bonus"
   ]
  },
  {
   "cell_type": "markdown",
   "id": "1caff343-635c-446d-963d-49e0781b2168",
   "metadata": {},
   "source": [
    "Download another data set from the UN data (http://data.un.org/Explorer.aspx) to merge with your data and explore.\n"
   ]
  },
  {
   "cell_type": "code",
   "execution_count": null,
   "id": "446dfa14-3a06-4b45-ab29-a735927c756a",
   "metadata": {},
   "outputs": [],
   "source": []
  }
 ],
 "metadata": {
  "kernelspec": {
   "display_name": "Python 3 (ipykernel)",
   "language": "python",
   "name": "python3"
  },
  "language_info": {
   "codemirror_mode": {
    "name": "ipython",
    "version": 3
   },
   "file_extension": ".py",
   "mimetype": "text/x-python",
   "name": "python",
   "nbconvert_exporter": "python",
   "pygments_lexer": "ipython3",
   "version": "3.11.7"
  }
 },
 "nbformat": 4,
 "nbformat_minor": 5
}
